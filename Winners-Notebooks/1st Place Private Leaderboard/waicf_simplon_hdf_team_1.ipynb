{
 "cells": [
  {
   "cell_type": "markdown",
   "metadata": {},
   "source": [
    "# Various import"
   ]
  },
  {
   "cell_type": "code",
   "execution_count": 237,
   "metadata": {},
   "outputs": [],
   "source": [
    "import pandas as pd\n",
    "import numpy as np\n",
    "import missingno as msno\n",
    "import matplotlib.pyplot as plt\n",
    "import seaborn as sns\n",
    "import plotly.express as px\n",
    "import datetime as dt\n",
    "from sklearn import datasets, linear_model\n",
    "from sklearn.metrics import mean_squared_error, r2_score, accuracy_score, f1_score, recall_score,precision_score, roc_auc_score, mean_absolute_error, explained_variance_score, max_error, mean_absolute_error, mean_squared_error, mean_squared_log_error, plot_confusion_matrix, balanced_accuracy_score\n",
    "from sklearn.model_selection import train_test_split, GridSearchCV, RandomizedSearchCV\n",
    "from sklearn.preprocessing import StandardScaler, OneHotEncoder, PolynomialFeatures\n",
    "from sklearn.pipeline import make_pipeline, Pipeline\n",
    "from sklearn.compose import ColumnTransformer\n",
    "import warnings\n",
    "warnings.filterwarnings(\"ignore\")"
   ]
  },
  {
   "cell_type": "markdown",
   "metadata": {},
   "source": [
    "# EDA"
   ]
  },
  {
   "cell_type": "markdown",
   "metadata": {},
   "source": [
    "## Import train data and quick clean"
   ]
  },
  {
   "cell_type": "code",
   "execution_count": 238,
   "metadata": {},
   "outputs": [],
   "source": [
    "pd.options.display.max_columns = 50"
   ]
  },
  {
   "cell_type": "code",
   "execution_count": 239,
   "metadata": {},
   "outputs": [
    {
     "data": {
      "text/html": [
       "<div>\n",
       "<style scoped>\n",
       "    .dataframe tbody tr th:only-of-type {\n",
       "        vertical-align: middle;\n",
       "    }\n",
       "\n",
       "    .dataframe tbody tr th {\n",
       "        vertical-align: top;\n",
       "    }\n",
       "\n",
       "    .dataframe thead th {\n",
       "        text-align: right;\n",
       "    }\n",
       "</style>\n",
       "<table border=\"1\" class=\"dataframe\">\n",
       "  <thead>\n",
       "    <tr style=\"text-align: right;\">\n",
       "      <th></th>\n",
       "      <th>accident_id</th>\n",
       "      <th>year</th>\n",
       "      <th>longitude</th>\n",
       "      <th>latitude</th>\n",
       "      <th>department</th>\n",
       "      <th>accident_type</th>\n",
       "      <th>road_category</th>\n",
       "      <th>address_nbr</th>\n",
       "      <th>traffic_type</th>\n",
       "      <th>speed_limitation</th>\n",
       "      <th>intersection</th>\n",
       "      <th>pedestrian_localisation</th>\n",
       "      <th>light_condition</th>\n",
       "      <th>weather_conditions</th>\n",
       "      <th>road_condition</th>\n",
       "      <th>obstacle_hit_type</th>\n",
       "      <th>person_type</th>\n",
       "      <th>person_sex</th>\n",
       "      <th>vehicule_type</th>\n",
       "      <th>principal_maneuver_before_accident</th>\n",
       "      <th>vehicule_motor_type</th>\n",
       "      <th>day</th>\n",
       "      <th>month</th>\n",
       "      <th>country</th>\n",
       "    </tr>\n",
       "  </thead>\n",
       "  <tbody>\n",
       "    <tr>\n",
       "      <th>0</th>\n",
       "      <td>x01600000001</td>\n",
       "      <td>2016.0</td>\n",
       "      <td>0.0</td>\n",
       "      <td>0.0</td>\n",
       "      <td>590</td>\n",
       "      <td>1</td>\n",
       "      <td>3.0</td>\n",
       "      <td>39.0</td>\n",
       "      <td>2.0</td>\n",
       "      <td>NaN</td>\n",
       "      <td>1.0</td>\n",
       "      <td>0.0</td>\n",
       "      <td>1.0</td>\n",
       "      <td>8.0</td>\n",
       "      <td>1.0</td>\n",
       "      <td>0.0</td>\n",
       "      <td>1.0</td>\n",
       "      <td>2.0</td>\n",
       "      <td>7.0</td>\n",
       "      <td>1.0</td>\n",
       "      <td>NaN</td>\n",
       "      <td>1.0</td>\n",
       "      <td>2.0</td>\n",
       "      <td>A</td>\n",
       "    </tr>\n",
       "    <tr>\n",
       "      <th>1</th>\n",
       "      <td>x01600000001</td>\n",
       "      <td>2016.0</td>\n",
       "      <td>0.0</td>\n",
       "      <td>0.0</td>\n",
       "      <td>590</td>\n",
       "      <td>1</td>\n",
       "      <td>3.0</td>\n",
       "      <td>39.0</td>\n",
       "      <td>2.0</td>\n",
       "      <td>NaN</td>\n",
       "      <td>1.0</td>\n",
       "      <td>0.0</td>\n",
       "      <td>1.0</td>\n",
       "      <td>8.0</td>\n",
       "      <td>1.0</td>\n",
       "      <td>0.0</td>\n",
       "      <td>1.0</td>\n",
       "      <td>2.0</td>\n",
       "      <td>2.0</td>\n",
       "      <td>15.0</td>\n",
       "      <td>NaN</td>\n",
       "      <td>1.0</td>\n",
       "      <td>2.0</td>\n",
       "      <td>A</td>\n",
       "    </tr>\n",
       "    <tr>\n",
       "      <th>2</th>\n",
       "      <td>x01600000001</td>\n",
       "      <td>2016.0</td>\n",
       "      <td>0.0</td>\n",
       "      <td>0.0</td>\n",
       "      <td>590</td>\n",
       "      <td>2</td>\n",
       "      <td>3.0</td>\n",
       "      <td>39.0</td>\n",
       "      <td>2.0</td>\n",
       "      <td>NaN</td>\n",
       "      <td>1.0</td>\n",
       "      <td>0.0</td>\n",
       "      <td>1.0</td>\n",
       "      <td>8.0</td>\n",
       "      <td>1.0</td>\n",
       "      <td>0.0</td>\n",
       "      <td>1.0</td>\n",
       "      <td>1.0</td>\n",
       "      <td>7.0</td>\n",
       "      <td>1.0</td>\n",
       "      <td>NaN</td>\n",
       "      <td>1.0</td>\n",
       "      <td>2.0</td>\n",
       "      <td>A</td>\n",
       "    </tr>\n",
       "    <tr>\n",
       "      <th>3</th>\n",
       "      <td>x01600000001</td>\n",
       "      <td>2016.0</td>\n",
       "      <td>0.0</td>\n",
       "      <td>0.0</td>\n",
       "      <td>590</td>\n",
       "      <td>2</td>\n",
       "      <td>3.0</td>\n",
       "      <td>39.0</td>\n",
       "      <td>2.0</td>\n",
       "      <td>NaN</td>\n",
       "      <td>1.0</td>\n",
       "      <td>0.0</td>\n",
       "      <td>1.0</td>\n",
       "      <td>8.0</td>\n",
       "      <td>1.0</td>\n",
       "      <td>0.0</td>\n",
       "      <td>1.0</td>\n",
       "      <td>1.0</td>\n",
       "      <td>2.0</td>\n",
       "      <td>15.0</td>\n",
       "      <td>NaN</td>\n",
       "      <td>1.0</td>\n",
       "      <td>2.0</td>\n",
       "      <td>A</td>\n",
       "    </tr>\n",
       "    <tr>\n",
       "      <th>4</th>\n",
       "      <td>x0160000000x</td>\n",
       "      <td>2016.0</td>\n",
       "      <td>0.0</td>\n",
       "      <td>0.0</td>\n",
       "      <td>590</td>\n",
       "      <td>2</td>\n",
       "      <td>3.0</td>\n",
       "      <td>39.0</td>\n",
       "      <td>1.0</td>\n",
       "      <td>NaN</td>\n",
       "      <td>6.0</td>\n",
       "      <td>0.0</td>\n",
       "      <td>1.0</td>\n",
       "      <td>1.0</td>\n",
       "      <td>1.0</td>\n",
       "      <td>6.0</td>\n",
       "      <td>1.0</td>\n",
       "      <td>1.0</td>\n",
       "      <td>7.0</td>\n",
       "      <td>1.0</td>\n",
       "      <td>NaN</td>\n",
       "      <td>16.0</td>\n",
       "      <td>3.0</td>\n",
       "      <td>A</td>\n",
       "    </tr>\n",
       "    <tr>\n",
       "      <th>...</th>\n",
       "      <td>...</td>\n",
       "      <td>...</td>\n",
       "      <td>...</td>\n",
       "      <td>...</td>\n",
       "      <td>...</td>\n",
       "      <td>...</td>\n",
       "      <td>...</td>\n",
       "      <td>...</td>\n",
       "      <td>...</td>\n",
       "      <td>...</td>\n",
       "      <td>...</td>\n",
       "      <td>...</td>\n",
       "      <td>...</td>\n",
       "      <td>...</td>\n",
       "      <td>...</td>\n",
       "      <td>...</td>\n",
       "      <td>...</td>\n",
       "      <td>...</td>\n",
       "      <td>...</td>\n",
       "      <td>...</td>\n",
       "      <td>...</td>\n",
       "      <td>...</td>\n",
       "      <td>...</td>\n",
       "      <td>...</td>\n",
       "    </tr>\n",
       "    <tr>\n",
       "      <th>2221213</th>\n",
       "      <td>x019984107019</td>\n",
       "      <td>2019.0</td>\n",
       "      <td>-2.983499</td>\n",
       "      <td>55.215407</td>\n",
       "      <td>98</td>\n",
       "      <td>1</td>\n",
       "      <td>3.0</td>\n",
       "      <td>7</td>\n",
       "      <td>6.0</td>\n",
       "      <td>60.0</td>\n",
       "      <td>0.0</td>\n",
       "      <td>0.0</td>\n",
       "      <td>1.0</td>\n",
       "      <td>1.0</td>\n",
       "      <td>2.0</td>\n",
       "      <td>0.0</td>\n",
       "      <td>1.0</td>\n",
       "      <td>1.0</td>\n",
       "      <td>19.0</td>\n",
       "      <td>18.0</td>\n",
       "      <td>2.0</td>\n",
       "      <td>30.0</td>\n",
       "      <td>5.0</td>\n",
       "      <td>B</td>\n",
       "    </tr>\n",
       "    <tr>\n",
       "      <th>2221214</th>\n",
       "      <td>x019984107x19</td>\n",
       "      <td>2019.0</td>\n",
       "      <td>-3.274645</td>\n",
       "      <td>54.991685</td>\n",
       "      <td>98</td>\n",
       "      <td>1</td>\n",
       "      <td>4.0</td>\n",
       "      <td>723</td>\n",
       "      <td>6.0</td>\n",
       "      <td>60.0</td>\n",
       "      <td>3.0</td>\n",
       "      <td>0.0</td>\n",
       "      <td>1.0</td>\n",
       "      <td>1.0</td>\n",
       "      <td>1.0</td>\n",
       "      <td>0.0</td>\n",
       "      <td>1.0</td>\n",
       "      <td>1.0</td>\n",
       "      <td>9.0</td>\n",
       "      <td>18.0</td>\n",
       "      <td>2.0</td>\n",
       "      <td>21.0</td>\n",
       "      <td>6.0</td>\n",
       "      <td>B</td>\n",
       "    </tr>\n",
       "    <tr>\n",
       "      <th>2221215</th>\n",
       "      <td>x019984107x19</td>\n",
       "      <td>2019.0</td>\n",
       "      <td>-3.274645</td>\n",
       "      <td>54.991685</td>\n",
       "      <td>98</td>\n",
       "      <td>1</td>\n",
       "      <td>4.0</td>\n",
       "      <td>723</td>\n",
       "      <td>6.0</td>\n",
       "      <td>60.0</td>\n",
       "      <td>3.0</td>\n",
       "      <td>0.0</td>\n",
       "      <td>1.0</td>\n",
       "      <td>1.0</td>\n",
       "      <td>1.0</td>\n",
       "      <td>0.0</td>\n",
       "      <td>1.0</td>\n",
       "      <td>1.0</td>\n",
       "      <td>9.0</td>\n",
       "      <td>18.0</td>\n",
       "      <td>2.0</td>\n",
       "      <td>21.0</td>\n",
       "      <td>6.0</td>\n",
       "      <td>B</td>\n",
       "    </tr>\n",
       "    <tr>\n",
       "      <th>2221216</th>\n",
       "      <td>x019984107419</td>\n",
       "      <td>2019.0</td>\n",
       "      <td>-2.997491</td>\n",
       "      <td>55.148292</td>\n",
       "      <td>98</td>\n",
       "      <td>1</td>\n",
       "      <td>6.0</td>\n",
       "      <td>0</td>\n",
       "      <td>6.0</td>\n",
       "      <td>30.0</td>\n",
       "      <td>3.0</td>\n",
       "      <td>0.0</td>\n",
       "      <td>1.0</td>\n",
       "      <td>1.0</td>\n",
       "      <td>1.0</td>\n",
       "      <td>0.0</td>\n",
       "      <td>3.0</td>\n",
       "      <td>1.0</td>\n",
       "      <td>9.0</td>\n",
       "      <td>7.0</td>\n",
       "      <td>2.0</td>\n",
       "      <td>29.0</td>\n",
       "      <td>6.0</td>\n",
       "      <td>B</td>\n",
       "    </tr>\n",
       "    <tr>\n",
       "      <th>2221217</th>\n",
       "      <td>x01998QC01004</td>\n",
       "      <td>2019.0</td>\n",
       "      <td>-3.715064</td>\n",
       "      <td>55.357237</td>\n",
       "      <td>98</td>\n",
       "      <td>2</td>\n",
       "      <td>3.0</td>\n",
       "      <td>702</td>\n",
       "      <td>6.0</td>\n",
       "      <td>60.0</td>\n",
       "      <td>0.0</td>\n",
       "      <td>0.0</td>\n",
       "      <td>1.0</td>\n",
       "      <td>1.0</td>\n",
       "      <td>1.0</td>\n",
       "      <td>0.0</td>\n",
       "      <td>1.0</td>\n",
       "      <td>1.0</td>\n",
       "      <td>5.0</td>\n",
       "      <td>16.0</td>\n",
       "      <td>1.0</td>\n",
       "      <td>21.0</td>\n",
       "      <td>4.0</td>\n",
       "      <td>B</td>\n",
       "    </tr>\n",
       "  </tbody>\n",
       "</table>\n",
       "<p>2221218 rows × 24 columns</p>\n",
       "</div>"
      ],
      "text/plain": [
       "           accident_id    year longitude   latitude department  accident_type  \\\n",
       "0         x01600000001  2016.0       0.0        0.0        590              1   \n",
       "1         x01600000001  2016.0       0.0        0.0        590              1   \n",
       "2         x01600000001  2016.0       0.0        0.0        590              2   \n",
       "3         x01600000001  2016.0       0.0        0.0        590              2   \n",
       "4         x0160000000x  2016.0       0.0        0.0        590              2   \n",
       "...                ...     ...       ...        ...        ...            ...   \n",
       "2221213  x019984107019  2019.0 -2.983499  55.215407         98              1   \n",
       "2221214  x019984107x19  2019.0 -3.274645  54.991685         98              1   \n",
       "2221215  x019984107x19  2019.0 -3.274645  54.991685         98              1   \n",
       "2221216  x019984107419  2019.0 -2.997491  55.148292         98              1   \n",
       "2221217  x01998QC01004  2019.0 -3.715064  55.357237         98              2   \n",
       "\n",
       "         road_category address_nbr  traffic_type  speed_limitation  \\\n",
       "0                  3.0        39.0           2.0               NaN   \n",
       "1                  3.0        39.0           2.0               NaN   \n",
       "2                  3.0        39.0           2.0               NaN   \n",
       "3                  3.0        39.0           2.0               NaN   \n",
       "4                  3.0        39.0           1.0               NaN   \n",
       "...                ...         ...           ...               ...   \n",
       "2221213            3.0           7           6.0              60.0   \n",
       "2221214            4.0         723           6.0              60.0   \n",
       "2221215            4.0         723           6.0              60.0   \n",
       "2221216            6.0           0           6.0              30.0   \n",
       "2221217            3.0         702           6.0              60.0   \n",
       "\n",
       "         intersection  pedestrian_localisation  light_condition  \\\n",
       "0                 1.0                      0.0              1.0   \n",
       "1                 1.0                      0.0              1.0   \n",
       "2                 1.0                      0.0              1.0   \n",
       "3                 1.0                      0.0              1.0   \n",
       "4                 6.0                      0.0              1.0   \n",
       "...               ...                      ...              ...   \n",
       "2221213           0.0                      0.0              1.0   \n",
       "2221214           3.0                      0.0              1.0   \n",
       "2221215           3.0                      0.0              1.0   \n",
       "2221216           3.0                      0.0              1.0   \n",
       "2221217           0.0                      0.0              1.0   \n",
       "\n",
       "         weather_conditions  road_condition  obstacle_hit_type  person_type  \\\n",
       "0                       8.0             1.0                0.0          1.0   \n",
       "1                       8.0             1.0                0.0          1.0   \n",
       "2                       8.0             1.0                0.0          1.0   \n",
       "3                       8.0             1.0                0.0          1.0   \n",
       "4                       1.0             1.0                6.0          1.0   \n",
       "...                     ...             ...                ...          ...   \n",
       "2221213                 1.0             2.0                0.0          1.0   \n",
       "2221214                 1.0             1.0                0.0          1.0   \n",
       "2221215                 1.0             1.0                0.0          1.0   \n",
       "2221216                 1.0             1.0                0.0          3.0   \n",
       "2221217                 1.0             1.0                0.0          1.0   \n",
       "\n",
       "         person_sex  vehicule_type  principal_maneuver_before_accident  \\\n",
       "0               2.0            7.0                                 1.0   \n",
       "1               2.0            2.0                                15.0   \n",
       "2               1.0            7.0                                 1.0   \n",
       "3               1.0            2.0                                15.0   \n",
       "4               1.0            7.0                                 1.0   \n",
       "...             ...            ...                                 ...   \n",
       "2221213         1.0           19.0                                18.0   \n",
       "2221214         1.0            9.0                                18.0   \n",
       "2221215         1.0            9.0                                18.0   \n",
       "2221216         1.0            9.0                                 7.0   \n",
       "2221217         1.0            5.0                                16.0   \n",
       "\n",
       "         vehicule_motor_type   day  month country  \n",
       "0                        NaN   1.0    2.0       A  \n",
       "1                        NaN   1.0    2.0       A  \n",
       "2                        NaN   1.0    2.0       A  \n",
       "3                        NaN   1.0    2.0       A  \n",
       "4                        NaN  16.0    3.0       A  \n",
       "...                      ...   ...    ...     ...  \n",
       "2221213                  2.0  30.0    5.0       B  \n",
       "2221214                  2.0  21.0    6.0       B  \n",
       "2221215                  2.0  21.0    6.0       B  \n",
       "2221216                  2.0  29.0    6.0       B  \n",
       "2221217                  1.0  21.0    4.0       B  \n",
       "\n",
       "[2221218 rows x 24 columns]"
      ]
     },
     "execution_count": 239,
     "metadata": {},
     "output_type": "execute_result"
    }
   ],
   "source": [
    "df_train = pd.read_csv(\"src/train.csv\")\n",
    "df_train"
   ]
  },
  {
   "cell_type": "code",
   "execution_count": 240,
   "metadata": {},
   "outputs": [
    {
     "data": {
      "text/html": [
       "<div>\n",
       "<style scoped>\n",
       "    .dataframe tbody tr th:only-of-type {\n",
       "        vertical-align: middle;\n",
       "    }\n",
       "\n",
       "    .dataframe tbody tr th {\n",
       "        vertical-align: top;\n",
       "    }\n",
       "\n",
       "    .dataframe thead th {\n",
       "        text-align: right;\n",
       "    }\n",
       "</style>\n",
       "<table border=\"1\" class=\"dataframe\">\n",
       "  <thead>\n",
       "    <tr style=\"text-align: right;\">\n",
       "      <th></th>\n",
       "      <th>year</th>\n",
       "      <th>accident_type</th>\n",
       "      <th>road_category</th>\n",
       "      <th>traffic_type</th>\n",
       "      <th>speed_limitation</th>\n",
       "      <th>intersection</th>\n",
       "      <th>pedestrian_localisation</th>\n",
       "      <th>light_condition</th>\n",
       "      <th>weather_conditions</th>\n",
       "      <th>road_condition</th>\n",
       "      <th>obstacle_hit_type</th>\n",
       "      <th>person_type</th>\n",
       "      <th>person_sex</th>\n",
       "      <th>vehicule_type</th>\n",
       "      <th>principal_maneuver_before_accident</th>\n",
       "      <th>vehicule_motor_type</th>\n",
       "      <th>day</th>\n",
       "      <th>month</th>\n",
       "    </tr>\n",
       "  </thead>\n",
       "  <tbody>\n",
       "    <tr>\n",
       "      <th>count</th>\n",
       "      <td>2.221218e+06</td>\n",
       "      <td>2.221218e+06</td>\n",
       "      <td>2.221218e+06</td>\n",
       "      <td>2.217470e+06</td>\n",
       "      <td>1.455257e+06</td>\n",
       "      <td>2.221218e+06</td>\n",
       "      <td>2.107009e+06</td>\n",
       "      <td>2.221218e+06</td>\n",
       "      <td>2.221163e+06</td>\n",
       "      <td>2.216632e+06</td>\n",
       "      <td>2.220588e+06</td>\n",
       "      <td>2.103254e+06</td>\n",
       "      <td>2.103254e+06</td>\n",
       "      <td>2.171445e+06</td>\n",
       "      <td>2.171096e+06</td>\n",
       "      <td>1.405570e+06</td>\n",
       "      <td>2.221218e+06</td>\n",
       "      <td>2.221218e+06</td>\n",
       "    </tr>\n",
       "    <tr>\n",
       "      <th>mean</th>\n",
       "      <td>2.017434e+03</td>\n",
       "      <td>1.192311e+00</td>\n",
       "      <td>3.605706e+00</td>\n",
       "      <td>3.655895e+00</td>\n",
       "      <td>4.371572e+01</td>\n",
       "      <td>2.299994e+00</td>\n",
       "      <td>9.043103e-02</td>\n",
       "      <td>1.933590e+00</td>\n",
       "      <td>1.571223e+00</td>\n",
       "      <td>1.292201e+00</td>\n",
       "      <td>4.058412e-01</td>\n",
       "      <td>1.334694e+00</td>\n",
       "      <td>1.363304e+00</td>\n",
       "      <td>1.074664e+01</td>\n",
       "      <td>1.080861e+01</td>\n",
       "      <td>1.062309e+00</td>\n",
       "      <td>1.568271e+01</td>\n",
       "      <td>6.634006e+00</td>\n",
       "    </tr>\n",
       "    <tr>\n",
       "      <th>std</th>\n",
       "      <td>1.121000e+00</td>\n",
       "      <td>3.941163e-01</td>\n",
       "      <td>1.454767e+00</td>\n",
       "      <td>2.085131e+00</td>\n",
       "      <td>1.980759e+01</td>\n",
       "      <td>5.102454e+00</td>\n",
       "      <td>9.552416e-01</td>\n",
       "      <td>1.591726e+00</td>\n",
       "      <td>1.652863e+00</td>\n",
       "      <td>8.060389e-01</td>\n",
       "      <td>1.977707e+00</td>\n",
       "      <td>5.903455e-01</td>\n",
       "      <td>4.843725e-01</td>\n",
       "      <td>1.062200e+01</td>\n",
       "      <td>1.237133e+01</td>\n",
       "      <td>1.333206e+00</td>\n",
       "      <td>8.716023e+00</td>\n",
       "      <td>3.401662e+00</td>\n",
       "    </tr>\n",
       "    <tr>\n",
       "      <th>min</th>\n",
       "      <td>2.016000e+03</td>\n",
       "      <td>1.000000e+00</td>\n",
       "      <td>1.000000e+00</td>\n",
       "      <td>-1.000000e+00</td>\n",
       "      <td>-1.000000e+00</td>\n",
       "      <td>-1.000000e+00</td>\n",
       "      <td>-1.000000e+00</td>\n",
       "      <td>-1.000000e+00</td>\n",
       "      <td>-1.000000e+00</td>\n",
       "      <td>-1.000000e+00</td>\n",
       "      <td>-1.000000e+00</td>\n",
       "      <td>1.000000e+00</td>\n",
       "      <td>-1.000000e+00</td>\n",
       "      <td>-1.000000e+00</td>\n",
       "      <td>-1.000000e+00</td>\n",
       "      <td>-1.000000e+00</td>\n",
       "      <td>1.000000e+00</td>\n",
       "      <td>1.000000e+00</td>\n",
       "    </tr>\n",
       "    <tr>\n",
       "      <th>25%</th>\n",
       "      <td>2.016000e+03</td>\n",
       "      <td>1.000000e+00</td>\n",
       "      <td>3.000000e+00</td>\n",
       "      <td>2.000000e+00</td>\n",
       "      <td>3.000000e+01</td>\n",
       "      <td>1.000000e+00</td>\n",
       "      <td>0.000000e+00</td>\n",
       "      <td>1.000000e+00</td>\n",
       "      <td>1.000000e+00</td>\n",
       "      <td>1.000000e+00</td>\n",
       "      <td>0.000000e+00</td>\n",
       "      <td>1.000000e+00</td>\n",
       "      <td>1.000000e+00</td>\n",
       "      <td>7.000000e+00</td>\n",
       "      <td>2.000000e+00</td>\n",
       "      <td>1.000000e+00</td>\n",
       "      <td>8.000000e+00</td>\n",
       "      <td>4.000000e+00</td>\n",
       "    </tr>\n",
       "    <tr>\n",
       "      <th>50%</th>\n",
       "      <td>2.017000e+03</td>\n",
       "      <td>1.000000e+00</td>\n",
       "      <td>3.000000e+00</td>\n",
       "      <td>3.000000e+00</td>\n",
       "      <td>3.000000e+01</td>\n",
       "      <td>1.000000e+00</td>\n",
       "      <td>0.000000e+00</td>\n",
       "      <td>1.000000e+00</td>\n",
       "      <td>1.000000e+00</td>\n",
       "      <td>1.000000e+00</td>\n",
       "      <td>0.000000e+00</td>\n",
       "      <td>1.000000e+00</td>\n",
       "      <td>1.000000e+00</td>\n",
       "      <td>9.000000e+00</td>\n",
       "      <td>9.000000e+00</td>\n",
       "      <td>1.000000e+00</td>\n",
       "      <td>1.600000e+01</td>\n",
       "      <td>7.000000e+00</td>\n",
       "    </tr>\n",
       "    <tr>\n",
       "      <th>75%</th>\n",
       "      <td>2.018000e+03</td>\n",
       "      <td>1.000000e+00</td>\n",
       "      <td>4.000000e+00</td>\n",
       "      <td>6.000000e+00</td>\n",
       "      <td>6.000000e+01</td>\n",
       "      <td>3.000000e+00</td>\n",
       "      <td>0.000000e+00</td>\n",
       "      <td>3.000000e+00</td>\n",
       "      <td>1.000000e+00</td>\n",
       "      <td>1.000000e+00</td>\n",
       "      <td>0.000000e+00</td>\n",
       "      <td>2.000000e+00</td>\n",
       "      <td>2.000000e+00</td>\n",
       "      <td>9.000000e+00</td>\n",
       "      <td>1.800000e+01</td>\n",
       "      <td>2.000000e+00</td>\n",
       "      <td>2.300000e+01</td>\n",
       "      <td>1.000000e+01</td>\n",
       "    </tr>\n",
       "    <tr>\n",
       "      <th>max</th>\n",
       "      <td>2.019000e+03</td>\n",
       "      <td>2.000000e+00</td>\n",
       "      <td>9.000000e+00</td>\n",
       "      <td>9.000000e+00</td>\n",
       "      <td>8.000000e+02</td>\n",
       "      <td>9.900000e+01</td>\n",
       "      <td>9.000000e+00</td>\n",
       "      <td>7.000000e+00</td>\n",
       "      <td>9.000000e+00</td>\n",
       "      <td>9.000000e+00</td>\n",
       "      <td>1.700000e+01</td>\n",
       "      <td>4.000000e+00</td>\n",
       "      <td>9.000000e+00</td>\n",
       "      <td>9.900000e+01</td>\n",
       "      <td>9.900000e+01</td>\n",
       "      <td>1.200000e+01</td>\n",
       "      <td>3.100000e+01</td>\n",
       "      <td>1.200000e+01</td>\n",
       "    </tr>\n",
       "  </tbody>\n",
       "</table>\n",
       "</div>"
      ],
      "text/plain": [
       "               year  accident_type  road_category  traffic_type  \\\n",
       "count  2.221218e+06   2.221218e+06   2.221218e+06  2.217470e+06   \n",
       "mean   2.017434e+03   1.192311e+00   3.605706e+00  3.655895e+00   \n",
       "std    1.121000e+00   3.941163e-01   1.454767e+00  2.085131e+00   \n",
       "min    2.016000e+03   1.000000e+00   1.000000e+00 -1.000000e+00   \n",
       "25%    2.016000e+03   1.000000e+00   3.000000e+00  2.000000e+00   \n",
       "50%    2.017000e+03   1.000000e+00   3.000000e+00  3.000000e+00   \n",
       "75%    2.018000e+03   1.000000e+00   4.000000e+00  6.000000e+00   \n",
       "max    2.019000e+03   2.000000e+00   9.000000e+00  9.000000e+00   \n",
       "\n",
       "       speed_limitation  intersection  pedestrian_localisation  \\\n",
       "count      1.455257e+06  2.221218e+06             2.107009e+06   \n",
       "mean       4.371572e+01  2.299994e+00             9.043103e-02   \n",
       "std        1.980759e+01  5.102454e+00             9.552416e-01   \n",
       "min       -1.000000e+00 -1.000000e+00            -1.000000e+00   \n",
       "25%        3.000000e+01  1.000000e+00             0.000000e+00   \n",
       "50%        3.000000e+01  1.000000e+00             0.000000e+00   \n",
       "75%        6.000000e+01  3.000000e+00             0.000000e+00   \n",
       "max        8.000000e+02  9.900000e+01             9.000000e+00   \n",
       "\n",
       "       light_condition  weather_conditions  road_condition  obstacle_hit_type  \\\n",
       "count     2.221218e+06        2.221163e+06    2.216632e+06       2.220588e+06   \n",
       "mean      1.933590e+00        1.571223e+00    1.292201e+00       4.058412e-01   \n",
       "std       1.591726e+00        1.652863e+00    8.060389e-01       1.977707e+00   \n",
       "min      -1.000000e+00       -1.000000e+00   -1.000000e+00      -1.000000e+00   \n",
       "25%       1.000000e+00        1.000000e+00    1.000000e+00       0.000000e+00   \n",
       "50%       1.000000e+00        1.000000e+00    1.000000e+00       0.000000e+00   \n",
       "75%       3.000000e+00        1.000000e+00    1.000000e+00       0.000000e+00   \n",
       "max       7.000000e+00        9.000000e+00    9.000000e+00       1.700000e+01   \n",
       "\n",
       "        person_type    person_sex  vehicule_type  \\\n",
       "count  2.103254e+06  2.103254e+06   2.171445e+06   \n",
       "mean   1.334694e+00  1.363304e+00   1.074664e+01   \n",
       "std    5.903455e-01  4.843725e-01   1.062200e+01   \n",
       "min    1.000000e+00 -1.000000e+00  -1.000000e+00   \n",
       "25%    1.000000e+00  1.000000e+00   7.000000e+00   \n",
       "50%    1.000000e+00  1.000000e+00   9.000000e+00   \n",
       "75%    2.000000e+00  2.000000e+00   9.000000e+00   \n",
       "max    4.000000e+00  9.000000e+00   9.900000e+01   \n",
       "\n",
       "       principal_maneuver_before_accident  vehicule_motor_type           day  \\\n",
       "count                        2.171096e+06         1.405570e+06  2.221218e+06   \n",
       "mean                         1.080861e+01         1.062309e+00  1.568271e+01   \n",
       "std                          1.237133e+01         1.333206e+00  8.716023e+00   \n",
       "min                         -1.000000e+00        -1.000000e+00  1.000000e+00   \n",
       "25%                          2.000000e+00         1.000000e+00  8.000000e+00   \n",
       "50%                          9.000000e+00         1.000000e+00  1.600000e+01   \n",
       "75%                          1.800000e+01         2.000000e+00  2.300000e+01   \n",
       "max                          9.900000e+01         1.200000e+01  3.100000e+01   \n",
       "\n",
       "              month  \n",
       "count  2.221218e+06  \n",
       "mean   6.634006e+00  \n",
       "std    3.401662e+00  \n",
       "min    1.000000e+00  \n",
       "25%    4.000000e+00  \n",
       "50%    7.000000e+00  \n",
       "75%    1.000000e+01  \n",
       "max    1.200000e+01  "
      ]
     },
     "execution_count": 240,
     "metadata": {},
     "output_type": "execute_result"
    }
   ],
   "source": [
    "df_train.describe()"
   ]
  },
  {
   "cell_type": "code",
   "execution_count": 241,
   "metadata": {},
   "outputs": [
    {
     "name": "stdout",
     "output_type": "stream",
     "text": [
      "<class 'pandas.core.frame.DataFrame'>\n",
      "RangeIndex: 2221218 entries, 0 to 2221217\n",
      "Data columns (total 24 columns):\n",
      " #   Column                              Dtype  \n",
      "---  ------                              -----  \n",
      " 0   accident_id                         object \n",
      " 1   year                                float64\n",
      " 2   longitude                           object \n",
      " 3   latitude                            object \n",
      " 4   department                          object \n",
      " 5   accident_type                       int64  \n",
      " 6   road_category                       float64\n",
      " 7   address_nbr                         object \n",
      " 8   traffic_type                        float64\n",
      " 9   speed_limitation                    float64\n",
      " 10  intersection                        float64\n",
      " 11  pedestrian_localisation             float64\n",
      " 12  light_condition                     float64\n",
      " 13  weather_conditions                  float64\n",
      " 14  road_condition                      float64\n",
      " 15  obstacle_hit_type                   float64\n",
      " 16  person_type                         float64\n",
      " 17  person_sex                          float64\n",
      " 18  vehicule_type                       float64\n",
      " 19  principal_maneuver_before_accident  float64\n",
      " 20  vehicule_motor_type                 float64\n",
      " 21  day                                 float64\n",
      " 22  month                               float64\n",
      " 23  country                             object \n",
      "dtypes: float64(17), int64(1), object(6)\n",
      "memory usage: 406.7+ MB\n"
     ]
    }
   ],
   "source": [
    "df_train.info()"
   ]
  },
  {
   "cell_type": "code",
   "execution_count": 242,
   "metadata": {},
   "outputs": [
    {
     "data": {
      "text/plain": [
       "491812"
      ]
     },
     "execution_count": 242,
     "metadata": {},
     "output_type": "execute_result"
    }
   ],
   "source": [
    "df_train.duplicated().sum()"
   ]
  },
  {
   "cell_type": "code",
   "execution_count": 243,
   "metadata": {},
   "outputs": [],
   "source": [
    "df_train = df_train.drop_duplicates()"
   ]
  },
  {
   "cell_type": "code",
   "execution_count": 244,
   "metadata": {},
   "outputs": [
    {
     "data": {
      "text/plain": [
       "accident_id                           0\n",
       "year                                  0\n",
       "longitude                             0\n",
       "latitude                              0\n",
       "department                            0\n",
       "accident_type                         0\n",
       "road_category                         0\n",
       "address_nbr                           0\n",
       "traffic_type                          0\n",
       "speed_limitation                      0\n",
       "intersection                          0\n",
       "pedestrian_localisation               0\n",
       "light_condition                       0\n",
       "weather_conditions                    0\n",
       "road_condition                        0\n",
       "obstacle_hit_type                     0\n",
       "person_type                           0\n",
       "person_sex                            0\n",
       "vehicule_type                         0\n",
       "principal_maneuver_before_accident    0\n",
       "vehicule_motor_type                   0\n",
       "day                                   0\n",
       "month                                 0\n",
       "country                               0\n",
       "dtype: int64"
      ]
     },
     "execution_count": 244,
     "metadata": {},
     "output_type": "execute_result"
    }
   ],
   "source": [
    "(df_train == '').sum()"
   ]
  },
  {
   "cell_type": "markdown",
   "metadata": {},
   "source": [
    "### checking missing values and replacing them"
   ]
  },
  {
   "cell_type": "code",
   "execution_count": 245,
   "metadata": {},
   "outputs": [
    {
     "data": {
      "text/plain": [
       "<AxesSubplot:>"
      ]
     },
     "execution_count": 245,
     "metadata": {},
     "output_type": "execute_result"
    },
    {
     "data": {
      "image/png": "[encoded data removed]",
      "text/plain": [
       "<Figure size 1800x720 with 2 Axes>"
      ]
     },
     "metadata": {
      "needs_background": "light"
     },
     "output_type": "display_data"
    }
   ],
   "source": [
    "msno.matrix(df_train)"
   ]
  },
  {
   "cell_type": "code",
   "execution_count": 246,
   "metadata": {},
   "outputs": [],
   "source": [
    "df_train = df_train.fillna(-1)"
   ]
  },
  {
   "cell_type": "markdown",
   "metadata": {},
   "source": [
    "### clean year"
   ]
  },
  {
   "cell_type": "code",
   "execution_count": 247,
   "metadata": {},
   "outputs": [],
   "source": [
    "df_train[\"year\"] = df_train[\"year\"].astype(int)"
   ]
  },
  {
   "cell_type": "markdown",
   "metadata": {},
   "source": [
    "### clean latitude longitude"
   ]
  },
  {
   "cell_type": "code",
   "execution_count": 248,
   "metadata": {},
   "outputs": [
    {
     "data": {
      "text/html": [
       "<div>\n",
       "<style scoped>\n",
       "    .dataframe tbody tr th:only-of-type {\n",
       "        vertical-align: middle;\n",
       "    }\n",
       "\n",
       "    .dataframe tbody tr th {\n",
       "        vertical-align: top;\n",
       "    }\n",
       "\n",
       "    .dataframe thead th {\n",
       "        text-align: right;\n",
       "    }\n",
       "</style>\n",
       "<table border=\"1\" class=\"dataframe\">\n",
       "  <thead>\n",
       "    <tr style=\"text-align: right;\">\n",
       "      <th></th>\n",
       "      <th>latitude</th>\n",
       "      <th>longitude</th>\n",
       "    </tr>\n",
       "  </thead>\n",
       "  <tbody>\n",
       "    <tr>\n",
       "      <th>0</th>\n",
       "      <td>0.0</td>\n",
       "      <td>0.0</td>\n",
       "    </tr>\n",
       "    <tr>\n",
       "      <th>1</th>\n",
       "      <td>0.0</td>\n",
       "      <td>0.0</td>\n",
       "    </tr>\n",
       "    <tr>\n",
       "      <th>2</th>\n",
       "      <td>0.0</td>\n",
       "      <td>0.0</td>\n",
       "    </tr>\n",
       "    <tr>\n",
       "      <th>3</th>\n",
       "      <td>0.0</td>\n",
       "      <td>0.0</td>\n",
       "    </tr>\n",
       "    <tr>\n",
       "      <th>4</th>\n",
       "      <td>0.0</td>\n",
       "      <td>0.0</td>\n",
       "    </tr>\n",
       "    <tr>\n",
       "      <th>...</th>\n",
       "      <td>...</td>\n",
       "      <td>...</td>\n",
       "    </tr>\n",
       "    <tr>\n",
       "      <th>1019358</th>\n",
       "      <td>48,7772890</td>\n",
       "      <td>2,2237590</td>\n",
       "    </tr>\n",
       "    <tr>\n",
       "      <th>1019359</th>\n",
       "      <td>48,8351236</td>\n",
       "      <td>2,1751101</td>\n",
       "    </tr>\n",
       "    <tr>\n",
       "      <th>1019360</th>\n",
       "      <td>48,8351236</td>\n",
       "      <td>2,1751101</td>\n",
       "    </tr>\n",
       "    <tr>\n",
       "      <th>1019361</th>\n",
       "      <td>48,8351236</td>\n",
       "      <td>2,1751101</td>\n",
       "    </tr>\n",
       "    <tr>\n",
       "      <th>1019362</th>\n",
       "      <td>48,8351236</td>\n",
       "      <td>2,1751101</td>\n",
       "    </tr>\n",
       "  </tbody>\n",
       "</table>\n",
       "<p>705111 rows × 2 columns</p>\n",
       "</div>"
      ],
      "text/plain": [
       "           latitude  longitude\n",
       "0               0.0        0.0\n",
       "1               0.0        0.0\n",
       "2               0.0        0.0\n",
       "3               0.0        0.0\n",
       "4               0.0        0.0\n",
       "...             ...        ...\n",
       "1019358  48,7772890  2,2237590\n",
       "1019359  48,8351236  2,1751101\n",
       "1019360  48,8351236  2,1751101\n",
       "1019361  48,8351236  2,1751101\n",
       "1019362  48,8351236  2,1751101\n",
       "\n",
       "[705111 rows x 2 columns]"
      ]
     },
     "execution_count": 248,
     "metadata": {},
     "output_type": "execute_result"
    }
   ],
   "source": [
    "df_train[df_train[\"country\"]== \"A\"][[\"latitude\",\"longitude\"]]"
   ]
  },
  {
   "cell_type": "code",
   "execution_count": 249,
   "metadata": {},
   "outputs": [
    {
     "data": {
      "text/html": [
       "<div>\n",
       "<style scoped>\n",
       "    .dataframe tbody tr th:only-of-type {\n",
       "        vertical-align: middle;\n",
       "    }\n",
       "\n",
       "    .dataframe tbody tr th {\n",
       "        vertical-align: top;\n",
       "    }\n",
       "\n",
       "    .dataframe thead th {\n",
       "        text-align: right;\n",
       "    }\n",
       "</style>\n",
       "<table border=\"1\" class=\"dataframe\">\n",
       "  <thead>\n",
       "    <tr style=\"text-align: right;\">\n",
       "      <th></th>\n",
       "      <th>latitude</th>\n",
       "      <th>longitude</th>\n",
       "    </tr>\n",
       "  </thead>\n",
       "  <tbody>\n",
       "    <tr>\n",
       "      <th>1019363</th>\n",
       "      <td>51.584754</td>\n",
       "      <td>-0.279323</td>\n",
       "    </tr>\n",
       "    <tr>\n",
       "      <th>1019364</th>\n",
       "      <td>51.584754</td>\n",
       "      <td>-0.279323</td>\n",
       "    </tr>\n",
       "    <tr>\n",
       "      <th>1019365</th>\n",
       "      <td>51.449595</td>\n",
       "      <td>0.184928</td>\n",
       "    </tr>\n",
       "    <tr>\n",
       "      <th>1019366</th>\n",
       "      <td>51.543563</td>\n",
       "      <td>-0.473837</td>\n",
       "    </tr>\n",
       "    <tr>\n",
       "      <th>1019367</th>\n",
       "      <td>51.404958</td>\n",
       "      <td>-0.164442</td>\n",
       "    </tr>\n",
       "    <tr>\n",
       "      <th>...</th>\n",
       "      <td>...</td>\n",
       "      <td>...</td>\n",
       "    </tr>\n",
       "    <tr>\n",
       "      <th>2221210</th>\n",
       "      <td>55.215407</td>\n",
       "      <td>-2.983499</td>\n",
       "    </tr>\n",
       "    <tr>\n",
       "      <th>2221211</th>\n",
       "      <td>55.215407</td>\n",
       "      <td>-2.983499</td>\n",
       "    </tr>\n",
       "    <tr>\n",
       "      <th>2221214</th>\n",
       "      <td>54.991685</td>\n",
       "      <td>-3.274645</td>\n",
       "    </tr>\n",
       "    <tr>\n",
       "      <th>2221216</th>\n",
       "      <td>55.148292</td>\n",
       "      <td>-2.997491</td>\n",
       "    </tr>\n",
       "    <tr>\n",
       "      <th>2221217</th>\n",
       "      <td>55.357237</td>\n",
       "      <td>-3.715064</td>\n",
       "    </tr>\n",
       "  </tbody>\n",
       "</table>\n",
       "<p>1024295 rows × 2 columns</p>\n",
       "</div>"
      ],
      "text/plain": [
       "          latitude  longitude\n",
       "1019363  51.584754  -0.279323\n",
       "1019364  51.584754  -0.279323\n",
       "1019365  51.449595   0.184928\n",
       "1019366  51.543563  -0.473837\n",
       "1019367  51.404958  -0.164442\n",
       "...            ...        ...\n",
       "2221210  55.215407  -2.983499\n",
       "2221211  55.215407  -2.983499\n",
       "2221214  54.991685  -3.274645\n",
       "2221216  55.148292  -2.997491\n",
       "2221217  55.357237  -3.715064\n",
       "\n",
       "[1024295 rows x 2 columns]"
      ]
     },
     "execution_count": 249,
     "metadata": {},
     "output_type": "execute_result"
    }
   ],
   "source": [
    "df_train[df_train[\"country\"]== \"B\"][[\"latitude\",\"longitude\"]]"
   ]
  },
  {
   "cell_type": "markdown",
   "metadata": {},
   "source": [
    "replace , by ."
   ]
  },
  {
   "cell_type": "code",
   "execution_count": 250,
   "metadata": {},
   "outputs": [],
   "source": [
    "df_train[[\"latitude\",\"longitude\"]] = df_train[[\"latitude\",\"longitude\"]].astype(str).apply(lambda x: x.str.replace(',','.'))"
   ]
  },
  {
   "cell_type": "markdown",
   "metadata": {},
   "source": [
    "### clean department"
   ]
  },
  {
   "cell_type": "code",
   "execution_count": 251,
   "metadata": {},
   "outputs": [
    {
     "data": {
      "text/plain": [
       "array([590, 620, 800, 20, 600, 570, 760, 270, 350, 220, 290, 560, 140,\n",
       "       500, 940, 10, 610, 440, 490, 530, 720, 850, 330, 170, 240, 400,\n",
       "       470, 640, 860, 160, 790, 870, 190, 230, 310, 90, 120, 380, 320,\n",
       "       460, 650, 810, 690, 820, 70, 260, 420, 730, 740, 630, 30, 150, 430,\n",
       "       540, 550, 880, 670, 680, 510, 80, 100, 520, 210, 580, 710, 890,\n",
       "       250, 40, 390, 700, 900, 130, 50, 60, 830, 840, 340, 110, 300, 480,\n",
       "       660, 201, 202, 780, 910, 280, 950, 770, 450, 180, 360, 370, 410,\n",
       "       920, 930, 750, 972, 971, 973, 974, 976, '750', '972', '971', '973',\n",
       "       '974', '976', '93', '92', '94', '87', '69', '38', '34', '13',\n",
       "       '988', '2B', '91', '86', '83', '80', '78', '77', '76', '72', '71',\n",
       "       '67', '66', '64', '60', '51', '50', '49', '45', '37', '35', '33',\n",
       "       '31', '30', '29', '22', '19', '18', '17', '74', '81', '2', '59',\n",
       "       '95', '63', '62', '2A', '84', '9', '73', '43', '10', '36', '16',\n",
       "       '7', '21', '40', '24', '4', '85', '27', '28', '52', '68', '42',\n",
       "       '82', '11', '987', '44', '61', '14', '56', '58', '54', '47', '41',\n",
       "       '3', '75', '1', '57', '32', '39', '15', '23', '6', '5', '26', '48',\n",
       "       '986', '89', '25', '12', '88', '65', '53', '70', '46', '90', '8',\n",
       "       '79', '977', '55', '978', '975'], dtype=object)"
      ]
     },
     "execution_count": 251,
     "metadata": {},
     "output_type": "execute_result"
    }
   ],
   "source": [
    "df_train[df_train[\"country\"]== \"A\"][\"department\"].unique()"
   ]
  },
  {
   "cell_type": "code",
   "execution_count": 252,
   "metadata": {},
   "outputs": [
    {
     "data": {
      "text/plain": [
       "array(['1', '48', 1, 48, 3, 4, 5, 6, 7, 10, 11, 12, 13, 14, 16, 17, 20,\n",
       "       21, 22, 23, 30, 31, 32, 33, 34, 35, 36, 37, 40, 41, 42, 43, 44, 45,\n",
       "       46, 47, 50, 52, 53, 54, 55, 60, 61, 62, 63, 91, 92, 93, 94, 95, 96,\n",
       "       97, 98], dtype=object)"
      ]
     },
     "execution_count": 252,
     "metadata": {},
     "output_type": "execute_result"
    }
   ],
   "source": [
    "df_train[df_train[\"country\"]== \"B\"][\"department\"].unique()"
   ]
  },
  {
   "cell_type": "code",
   "execution_count": 253,
   "metadata": {},
   "outputs": [
    {
     "data": {
      "text/plain": [
       "array(['590', '620', '800', '20', '600', '570', '760', '270', '350',\n",
       "       '220', '290', '560', '140', '500', '940', '10', '610', '440',\n",
       "       '490', '530', '720', '850', '330', '170', '240', '400', '470',\n",
       "       '640', '860', '160', '790', '870', '190', '230', '310', '90',\n",
       "       '120', '380', '320', '460', '650', '810', '690', '820', '70',\n",
       "       '260', '420', '730', '740', '630', '30', '150', '430', '540',\n",
       "       '550', '880', '670', '680', '510', '80', '100', '520', '210',\n",
       "       '580', '710', '890', '250', '40', '390', '700', '900', '130', '50',\n",
       "       '60', '830', '840', '340', '110', '300', '480', '660', '201',\n",
       "       '202', '780', '910', '280', '950', '770', '450', '180', '360',\n",
       "       '370', '410', '920', '930', '750', '972', '971', '973', '974',\n",
       "       '976', '93', '92', '94', '87', '69', '38', '34', '13', '988', '2B',\n",
       "       '91', '86', '83', '78', '77', '76', '72', '71', '67', '66', '64',\n",
       "       '51', '49', '45', '37', '35', '33', '31', '29', '22', '19', '18',\n",
       "       '17', '74', '81', '2', '59', '95', '63', '62', '2A', '84', '9',\n",
       "       '73', '43', '36', '16', '7', '21', '24', '4', '85', '27', '28',\n",
       "       '52', '68', '42', '82', '11', '987', '44', '61', '14', '56', '58',\n",
       "       '54', '47', '41', '3', '75', '1', '57', '32', '39', '15', '23',\n",
       "       '6', '5', '26', '48', '986', '89', '25', '12', '88', '65', '53',\n",
       "       '46', '8', '79', '977', '55', '978', '975', '96', '97', '98'],\n",
       "      dtype=object)"
      ]
     },
     "execution_count": 253,
     "metadata": {},
     "output_type": "execute_result"
    }
   ],
   "source": [
    "df_train[\"department\"] = df_train[\"department\"].astype(str)\n",
    "df_train[\"department\"].unique()"
   ]
  },
  {
   "cell_type": "code",
   "execution_count": 254,
   "metadata": {},
   "outputs": [],
   "source": [
    "df_train['department'] = np.where(df_train['department'] == \"2A\", \"2\", df_train['department'])\n",
    "df_train['department'] = np.where(df_train['department'] == \"2B\", \"2\", df_train['department'])"
   ]
  },
  {
   "cell_type": "markdown",
   "metadata": {},
   "source": [
    "### clean accident_type"
   ]
  },
  {
   "cell_type": "code",
   "execution_count": 255,
   "metadata": {},
   "outputs": [
    {
     "data": {
      "text/plain": [
       "0          1\n",
       "1          1\n",
       "2          2\n",
       "3          2\n",
       "4          2\n",
       "          ..\n",
       "2221210    1\n",
       "2221211    1\n",
       "2221214    1\n",
       "2221216    1\n",
       "2221217    2\n",
       "Name: accident_type, Length: 1729406, dtype: int64"
      ]
     },
     "execution_count": 255,
     "metadata": {},
     "output_type": "execute_result"
    }
   ],
   "source": [
    "df_train[\"accident_type\"]"
   ]
  },
  {
   "cell_type": "code",
   "execution_count": 256,
   "metadata": {},
   "outputs": [],
   "source": [
    "df_train[\"accident_type\"] = df_train[\"accident_type\"] - 1"
   ]
  },
  {
   "cell_type": "code",
   "execution_count": 257,
   "metadata": {},
   "outputs": [],
   "source": [
    "df_train[\"accident_type\"] = df_train[\"accident_type\"].astype(bool)"
   ]
  },
  {
   "cell_type": "markdown",
   "metadata": {},
   "source": [
    "### clean road_category"
   ]
  },
  {
   "cell_type": "code",
   "execution_count": 258,
   "metadata": {},
   "outputs": [
    {
     "data": {
      "text/plain": [
       "array([3., 4., 9., 2., 1., 5., 6., 7.])"
      ]
     },
     "execution_count": 258,
     "metadata": {},
     "output_type": "execute_result"
    }
   ],
   "source": [
    "df_train[\"road_category\"].unique()"
   ]
  },
  {
   "cell_type": "code",
   "execution_count": 259,
   "metadata": {},
   "outputs": [],
   "source": [
    "df_train[\"road_category\"] = df_train[\"road_category\"].astype(int)"
   ]
  },
  {
   "cell_type": "code",
   "execution_count": 260,
   "metadata": {},
   "outputs": [
    {
     "data": {
      "text/plain": [
       "3    732856\n",
       "4    422905\n",
       "6    327283\n",
       "1    120503\n",
       "5     59740\n",
       "2     54429\n",
       "9      6575\n",
       "7      5115\n",
       "Name: road_category, dtype: int64"
      ]
     },
     "execution_count": 260,
     "metadata": {},
     "output_type": "execute_result"
    }
   ],
   "source": [
    "df_train[\"road_category\"].value_counts()"
   ]
  },
  {
   "cell_type": "markdown",
   "metadata": {},
   "source": [
    "### suppress address_nbr"
   ]
  },
  {
   "cell_type": "code",
   "execution_count": 261,
   "metadata": {},
   "outputs": [
    {
     "data": {
      "text/plain": [
       "array(['39.0', '1.0', '0.0', ..., 8003, 8067, 7034], dtype=object)"
      ]
     },
     "execution_count": 261,
     "metadata": {},
     "output_type": "execute_result"
    }
   ],
   "source": [
    "df_train[\"address_nbr\"].unique()"
   ]
  },
  {
   "cell_type": "code",
   "execution_count": 262,
   "metadata": {},
   "outputs": [],
   "source": [
    "df_train.drop(\"address_nbr\", axis=1, inplace=True)"
   ]
  },
  {
   "cell_type": "markdown",
   "metadata": {},
   "source": [
    "### clean traffic type"
   ]
  },
  {
   "cell_type": "code",
   "execution_count": 263,
   "metadata": {},
   "outputs": [
    {
     "data": {
      "text/plain": [
       "array([ 2.,  1.,  0.,  3.,  4., -1.,  6.,  7.,  9.])"
      ]
     },
     "execution_count": 263,
     "metadata": {},
     "output_type": "execute_result"
    }
   ],
   "source": [
    "df_train[\"traffic_type\"].unique()"
   ]
  },
  {
   "cell_type": "code",
   "execution_count": 264,
   "metadata": {},
   "outputs": [
    {
     "data": {
      "text/plain": [
       "0          2\n",
       "1          2\n",
       "2          2\n",
       "3          2\n",
       "4          1\n",
       "          ..\n",
       "2221210    6\n",
       "2221211    6\n",
       "2221214    6\n",
       "2221216    6\n",
       "2221217    6\n",
       "Name: traffic_type, Length: 1729406, dtype: int32"
      ]
     },
     "execution_count": 264,
     "metadata": {},
     "output_type": "execute_result"
    }
   ],
   "source": [
    "df_train[\"traffic_type\"] = df_train[\"traffic_type\"].astype(int)\n",
    "df_train[\"traffic_type\"]"
   ]
  },
  {
   "cell_type": "code",
   "execution_count": 265,
   "metadata": {},
   "outputs": [
    {
     "data": {
      "text/plain": [
       "0          2\n",
       "1          2\n",
       "2          2\n",
       "3          2\n",
       "4          1\n",
       "          ..\n",
       "2221210    6\n",
       "2221211    6\n",
       "2221214    6\n",
       "2221216    6\n",
       "2221217    6\n",
       "Name: traffic_type, Length: 1729406, dtype: object"
      ]
     },
     "execution_count": 265,
     "metadata": {},
     "output_type": "execute_result"
    }
   ],
   "source": [
    "df_train[\"traffic_type\"] = df_train[\"traffic_type\"].astype(str)\n",
    "df_train[\"traffic_type\"]"
   ]
  },
  {
   "cell_type": "markdown",
   "metadata": {},
   "source": [
    "### clean speed limitation"
   ]
  },
  {
   "cell_type": "code",
   "execution_count": 266,
   "metadata": {},
   "outputs": [
    {
     "data": {
      "text/plain": [
       "array([ -1.,  70.,  90.,  30.,  50.,  80.,  60.,  10., 110.,  20., 130.,\n",
       "        15.,   5.,  40.,   3.,   4.,   1.,   0.,  45.,  25.,   2., 500.,\n",
       "       100.,  65.,  12., 120.,  35.,   6., 560.,   7., 700., 800.,  42.,\n",
       "       600.])"
      ]
     },
     "execution_count": 266,
     "metadata": {},
     "output_type": "execute_result"
    }
   ],
   "source": [
    "df_train[\"speed_limitation\"].unique()"
   ]
  },
  {
   "cell_type": "code",
   "execution_count": 267,
   "metadata": {},
   "outputs": [
    {
     "data": {
      "text/plain": [
       "array([ -1.,  70.,  90.,  30.,  50.,  80.,  60.,  10., 110.,  20., 130.,\n",
       "        15.,   5.,  40.,   3.,   4.,   1.,   0.,  45.,  25.,   2., 500.,\n",
       "       100.,  65.,  12., 120.,  35.,   6., 560.,   7., 700., 800.,  42.,\n",
       "       600.])"
      ]
     },
     "execution_count": 267,
     "metadata": {},
     "output_type": "execute_result"
    }
   ],
   "source": [
    "df_train[df_train[\"country\"] == \"A\"][\"speed_limitation\"].unique()"
   ]
  },
  {
   "cell_type": "code",
   "execution_count": 268,
   "metadata": {},
   "outputs": [
    {
     "data": {
      "text/plain": [
       "-1.0      530968\n",
       " 50.0      96333\n",
       " 80.0      29149\n",
       " 70.0      13553\n",
       " 90.0      11133\n",
       " 30.0      10329\n",
       " 110.0      7226\n",
       " 130.0      4561\n",
       " 60.0        616\n",
       " 20.0        343\n",
       " 10.0        247\n",
       " 40.0        167\n",
       " 15.0         81\n",
       " 5.0          66\n",
       " 45.0         64\n",
       " 2.0          55\n",
       " 500.0        52\n",
       " 25.0         27\n",
       " 1.0          26\n",
       " 100.0        24\n",
       " 35.0         18\n",
       " 6.0          16\n",
       " 3.0          15\n",
       " 560.0         9\n",
       " 65.0          8\n",
       " 4.0           7\n",
       " 0.0           4\n",
       " 700.0         3\n",
       " 42.0          3\n",
       " 120.0         2\n",
       " 12.0          2\n",
       " 7.0           2\n",
       " 800.0         1\n",
       " 600.0         1\n",
       "Name: speed_limitation, dtype: int64"
      ]
     },
     "execution_count": 268,
     "metadata": {},
     "output_type": "execute_result"
    }
   ],
   "source": [
    "df_train[df_train[\"country\"] == \"A\"][\"speed_limitation\"].value_counts()"
   ]
  },
  {
   "cell_type": "code",
   "execution_count": 269,
   "metadata": {},
   "outputs": [
    {
     "data": {
      "text/plain": [
       "0           -1.0\n",
       "1           -1.0\n",
       "2           -1.0\n",
       "3           -1.0\n",
       "4           -1.0\n",
       "           ...  \n",
       "1019358     50.0\n",
       "1019359    110.0\n",
       "1019360    110.0\n",
       "1019361    110.0\n",
       "1019362    110.0\n",
       "Name: speed_limitation, Length: 705111, dtype: float64"
      ]
     },
     "execution_count": 269,
     "metadata": {},
     "output_type": "execute_result"
    }
   ],
   "source": [
    "df_train[df_train[\"country\"] == \"A\"][\"speed_limitation\"]"
   ]
  },
  {
   "cell_type": "code",
   "execution_count": 270,
   "metadata": {},
   "outputs": [
    {
     "data": {
      "text/plain": [
       "array([30., 40., 20., 70., 50., 60., -1.])"
      ]
     },
     "execution_count": 270,
     "metadata": {},
     "output_type": "execute_result"
    }
   ],
   "source": [
    "df_train[df_train[\"country\"] == \"B\"][\"speed_limitation\"].unique()"
   ]
  },
  {
   "cell_type": "code",
   "execution_count": 271,
   "metadata": {},
   "outputs": [],
   "source": [
    "df_train.loc[df_train[\"country\"] == \"B\", \"speed_limitation\"] = 1.60934 * df_train.loc[df_train[\"country\"] == \"B\", \"speed_limitation\"]"
   ]
  },
  {
   "cell_type": "code",
   "execution_count": 272,
   "metadata": {},
   "outputs": [
    {
     "data": {
      "text/html": [
       "<div>\n",
       "<style scoped>\n",
       "    .dataframe tbody tr th:only-of-type {\n",
       "        vertical-align: middle;\n",
       "    }\n",
       "\n",
       "    .dataframe tbody tr th {\n",
       "        vertical-align: top;\n",
       "    }\n",
       "\n",
       "    .dataframe thead th {\n",
       "        text-align: right;\n",
       "    }\n",
       "</style>\n",
       "<table border=\"1\" class=\"dataframe\">\n",
       "  <thead>\n",
       "    <tr style=\"text-align: right;\">\n",
       "      <th></th>\n",
       "      <th>speed_limitation</th>\n",
       "    </tr>\n",
       "  </thead>\n",
       "  <tbody>\n",
       "    <tr>\n",
       "      <th>1019363</th>\n",
       "      <td>48.2802</td>\n",
       "    </tr>\n",
       "    <tr>\n",
       "      <th>1019364</th>\n",
       "      <td>48.2802</td>\n",
       "    </tr>\n",
       "    <tr>\n",
       "      <th>1019365</th>\n",
       "      <td>48.2802</td>\n",
       "    </tr>\n",
       "    <tr>\n",
       "      <th>1019366</th>\n",
       "      <td>48.2802</td>\n",
       "    </tr>\n",
       "    <tr>\n",
       "      <th>1019367</th>\n",
       "      <td>48.2802</td>\n",
       "    </tr>\n",
       "    <tr>\n",
       "      <th>...</th>\n",
       "      <td>...</td>\n",
       "    </tr>\n",
       "    <tr>\n",
       "      <th>2221210</th>\n",
       "      <td>96.5604</td>\n",
       "    </tr>\n",
       "    <tr>\n",
       "      <th>2221211</th>\n",
       "      <td>96.5604</td>\n",
       "    </tr>\n",
       "    <tr>\n",
       "      <th>2221214</th>\n",
       "      <td>96.5604</td>\n",
       "    </tr>\n",
       "    <tr>\n",
       "      <th>2221216</th>\n",
       "      <td>48.2802</td>\n",
       "    </tr>\n",
       "    <tr>\n",
       "      <th>2221217</th>\n",
       "      <td>96.5604</td>\n",
       "    </tr>\n",
       "  </tbody>\n",
       "</table>\n",
       "<p>1024295 rows × 1 columns</p>\n",
       "</div>"
      ],
      "text/plain": [
       "         speed_limitation\n",
       "1019363           48.2802\n",
       "1019364           48.2802\n",
       "1019365           48.2802\n",
       "1019366           48.2802\n",
       "1019367           48.2802\n",
       "...                   ...\n",
       "2221210           96.5604\n",
       "2221211           96.5604\n",
       "2221214           96.5604\n",
       "2221216           48.2802\n",
       "2221217           96.5604\n",
       "\n",
       "[1024295 rows x 1 columns]"
      ]
     },
     "execution_count": 272,
     "metadata": {},
     "output_type": "execute_result"
    }
   ],
   "source": [
    "df_train[df_train[\"country\"] == \"B\"][[\"speed_limitation\"]]"
   ]
  },
  {
   "cell_type": "code",
   "execution_count": 273,
   "metadata": {},
   "outputs": [],
   "source": [
    "df_train['speed_limitation'] = np.where(df_train['speed_limitation'] < 10, -1, df_train['speed_limitation'])\n",
    "df_train['speed_limitation'] = np.where(df_train['speed_limitation'] > 130, -1, df_train['speed_limitation'])"
   ]
  },
  {
   "cell_type": "code",
   "execution_count": 274,
   "metadata": {},
   "outputs": [
    {
     "data": {
      "text/plain": [
       "array([ -1.    ,  70.    ,  90.    ,  30.    ,  50.    ,  80.    ,\n",
       "        60.    ,  10.    , 110.    ,  20.    , 130.    ,  15.    ,\n",
       "        40.    ,  45.    ,  25.    , 100.    ,  65.    ,  12.    ,\n",
       "       120.    ,  35.    ,  42.    ,  48.2802,  64.3736,  32.1868,\n",
       "       112.6538,  80.467 ,  96.5604])"
      ]
     },
     "execution_count": 274,
     "metadata": {},
     "output_type": "execute_result"
    }
   ],
   "source": [
    "df_train[\"speed_limitation\"].unique()"
   ]
  },
  {
   "cell_type": "markdown",
   "metadata": {},
   "source": [
    "### intersection"
   ]
  },
  {
   "cell_type": "code",
   "execution_count": 275,
   "metadata": {},
   "outputs": [
    {
     "data": {
      "text/plain": [
       "array([ 1.,  6.,  3.,  2.,  9.,  8.,  4.,  7.,  5.,  0., 99., -1.])"
      ]
     },
     "execution_count": 275,
     "metadata": {},
     "output_type": "execute_result"
    }
   ],
   "source": [
    "df_train[\"intersection\"].unique()"
   ]
  },
  {
   "cell_type": "code",
   "execution_count": 276,
   "metadata": {},
   "outputs": [],
   "source": [
    "df_train[\"intersection\"] = df_train[\"intersection\"].astype(int)\n",
    "df_train[\"intersection\"] = df_train[\"intersection\"].astype(str)"
   ]
  },
  {
   "cell_type": "code",
   "execution_count": 277,
   "metadata": {},
   "outputs": [
    {
     "data": {
      "text/plain": [
       "1     545443\n",
       "0     417878\n",
       "3     386359\n",
       "6     127600\n",
       "2     105260\n",
       "9      57857\n",
       "8      29678\n",
       "5      21447\n",
       "7      18726\n",
       "4      14589\n",
       "99      4559\n",
       "-1        10\n",
       "Name: intersection, dtype: int64"
      ]
     },
     "execution_count": 277,
     "metadata": {},
     "output_type": "execute_result"
    }
   ],
   "source": [
    "df_train[\"intersection\"].value_counts()"
   ]
  },
  {
   "cell_type": "code",
   "execution_count": 278,
   "metadata": {},
   "outputs": [],
   "source": [
    "df_train = df_train.drop(df_train[df_train.intersection == \"-1\"].index)"
   ]
  },
  {
   "cell_type": "markdown",
   "metadata": {},
   "source": [
    "### pedestrian_localisation"
   ]
  },
  {
   "cell_type": "code",
   "execution_count": 279,
   "metadata": {},
   "outputs": [
    {
     "data": {
      "text/plain": [
       "array([ 0.,  6.,  4.,  1.,  2.,  5.,  3.,  8., -1.,  7.,  9.])"
      ]
     },
     "execution_count": 279,
     "metadata": {},
     "output_type": "execute_result"
    }
   ],
   "source": [
    "df_train[\"pedestrian_localisation\"].unique()"
   ]
  },
  {
   "cell_type": "code",
   "execution_count": 280,
   "metadata": {},
   "outputs": [
    {
     "data": {
      "text/plain": [
       " 0.0    1520834\n",
       "-1.0     140769\n",
       " 2.0      17969\n",
       " 9.0      15247\n",
       " 3.0      12773\n",
       " 1.0       8971\n",
       " 4.0       7949\n",
       " 5.0       3031\n",
       " 6.0       1198\n",
       " 8.0        599\n",
       " 7.0         56\n",
       "Name: pedestrian_localisation, dtype: int64"
      ]
     },
     "execution_count": 280,
     "metadata": {},
     "output_type": "execute_result"
    }
   ],
   "source": [
    "df_train[\"pedestrian_localisation\"].value_counts()"
   ]
  },
  {
   "cell_type": "code",
   "execution_count": 281,
   "metadata": {},
   "outputs": [],
   "source": [
    "df_train[\"pedestrian_localisation\"] = df_train[\"pedestrian_localisation\"].astype(int)\n",
    "df_train[\"pedestrian_localisation\"] = df_train[\"pedestrian_localisation\"].astype(str)"
   ]
  },
  {
   "cell_type": "markdown",
   "metadata": {},
   "source": [
    "### light_condition"
   ]
  },
  {
   "cell_type": "code",
   "execution_count": 282,
   "metadata": {},
   "outputs": [],
   "source": [
    "df_train[\"light_condition\"] = df_train[\"light_condition\"].astype(int)\n",
    "df_train[\"light_condition\"] = df_train[\"light_condition\"].astype(str)"
   ]
  },
  {
   "cell_type": "code",
   "execution_count": 283,
   "metadata": {},
   "outputs": [
    {
     "data": {
      "text/plain": [
       "1     1229499\n",
       "4      209947\n",
       "5      111797\n",
       "3       63773\n",
       "6       50523\n",
       "2       44589\n",
       "7       19234\n",
       "-1         34\n",
       "Name: light_condition, dtype: int64"
      ]
     },
     "execution_count": 283,
     "metadata": {},
     "output_type": "execute_result"
    }
   ],
   "source": [
    "df_train[\"light_condition\"].value_counts()"
   ]
  },
  {
   "cell_type": "code",
   "execution_count": 284,
   "metadata": {},
   "outputs": [],
   "source": [
    "df_train = df_train.drop(df_train[df_train.light_condition == \"-1\"].index)"
   ]
  },
  {
   "cell_type": "code",
   "execution_count": 285,
   "metadata": {},
   "outputs": [
    {
     "data": {
      "text/plain": [
       "1    1229499\n",
       "4     209947\n",
       "5     111797\n",
       "3      63773\n",
       "6      50523\n",
       "2      44589\n",
       "7      19234\n",
       "Name: light_condition, dtype: int64"
      ]
     },
     "execution_count": 285,
     "metadata": {},
     "output_type": "execute_result"
    }
   ],
   "source": [
    "df_train[\"light_condition\"].value_counts()"
   ]
  },
  {
   "cell_type": "markdown",
   "metadata": {},
   "source": [
    "### weather_conditions"
   ]
  },
  {
   "cell_type": "code",
   "execution_count": 286,
   "metadata": {},
   "outputs": [
    {
     "data": {
      "text/plain": [
       "array([ 8.,  1.,  7.,  9.,  5.,  2.,  3.,  6.,  4., -1.])"
      ]
     },
     "execution_count": 286,
     "metadata": {},
     "output_type": "execute_result"
    }
   ],
   "source": [
    "df_train[\"weather_conditions\"].unique()"
   ]
  },
  {
   "cell_type": "code",
   "execution_count": 287,
   "metadata": {},
   "outputs": [],
   "source": [
    "df_train[\"weather_conditions\"] = df_train[\"weather_conditions\"].astype(int)\n",
    "df_train[\"weather_conditions\"] = df_train[\"weather_conditions\"].astype(str)"
   ]
  },
  {
   "cell_type": "code",
   "execution_count": 288,
   "metadata": {},
   "outputs": [
    {
     "data": {
      "text/plain": [
       "1     1400071\n",
       "2      186207\n",
       "8       43321\n",
       "9       31519\n",
       "3       20064\n",
       "7       16188\n",
       "5       15619\n",
       "4       13212\n",
       "6        3084\n",
       "-1         77\n",
       "Name: weather_conditions, dtype: int64"
      ]
     },
     "execution_count": 288,
     "metadata": {},
     "output_type": "execute_result"
    }
   ],
   "source": [
    "df_train[\"weather_conditions\"].value_counts()"
   ]
  },
  {
   "cell_type": "code",
   "execution_count": 289,
   "metadata": {},
   "outputs": [],
   "source": [
    "df_train = df_train.drop(df_train[df_train.weather_conditions == \"-1\"].index)"
   ]
  },
  {
   "cell_type": "code",
   "execution_count": 290,
   "metadata": {},
   "outputs": [
    {
     "data": {
      "text/plain": [
       "1    1400071\n",
       "2     186207\n",
       "8      43321\n",
       "9      31519\n",
       "3      20064\n",
       "7      16188\n",
       "5      15619\n",
       "4      13212\n",
       "6       3084\n",
       "Name: weather_conditions, dtype: int64"
      ]
     },
     "execution_count": 290,
     "metadata": {},
     "output_type": "execute_result"
    }
   ],
   "source": [
    "df_train[\"weather_conditions\"].value_counts()"
   ]
  },
  {
   "cell_type": "markdown",
   "metadata": {},
   "source": [
    "### obstacle_hit_type"
   ]
  },
  {
   "cell_type": "code",
   "execution_count": 291,
   "metadata": {},
   "outputs": [
    {
     "data": {
      "text/plain": [
       " 0.0     1613241\n",
       " 1.0       17256\n",
       " 2.0       16876\n",
       " 3.0       11511\n",
       " 13.0      11215\n",
       " 9.0       10381\n",
       " 6.0        8619\n",
       " 4.0        8386\n",
       " 8.0        6845\n",
       " 14.0       5070\n",
       " 7.0        4698\n",
       " 12.0       3735\n",
       " 15.0       3538\n",
       " 16.0       3320\n",
       "-1.0        1511\n",
       " 11.0       1228\n",
       " 5.0         975\n",
       " 10.0        682\n",
       " 17.0        198\n",
       "Name: obstacle_hit_type, dtype: int64"
      ]
     },
     "execution_count": 291,
     "metadata": {},
     "output_type": "execute_result"
    }
   ],
   "source": [
    "df_train[\"obstacle_hit_type\"].value_counts()"
   ]
  },
  {
   "cell_type": "code",
   "execution_count": 292,
   "metadata": {},
   "outputs": [],
   "source": [
    "df_train[\"obstacle_hit_type\"] = df_train[\"obstacle_hit_type\"].astype(int)\n",
    "df_train[\"obstacle_hit_type\"] = df_train[\"obstacle_hit_type\"].astype(str)\n",
    "df_train = df_train.drop(df_train[df_train.obstacle_hit_type == \"-1\"].index)"
   ]
  },
  {
   "cell_type": "code",
   "execution_count": 293,
   "metadata": {},
   "outputs": [
    {
     "data": {
      "text/plain": [
       "0     1613241\n",
       "1       17256\n",
       "2       16876\n",
       "3       11511\n",
       "13      11215\n",
       "9       10381\n",
       "6        8619\n",
       "4        8386\n",
       "8        6845\n",
       "14       5070\n",
       "7        4698\n",
       "12       3735\n",
       "15       3538\n",
       "16       3320\n",
       "11       1228\n",
       "5         975\n",
       "10        682\n",
       "17        198\n",
       "Name: obstacle_hit_type, dtype: int64"
      ]
     },
     "execution_count": 293,
     "metadata": {},
     "output_type": "execute_result"
    }
   ],
   "source": [
    "df_train[\"obstacle_hit_type\"].value_counts()"
   ]
  },
  {
   "cell_type": "markdown",
   "metadata": {},
   "source": [
    "### person_type"
   ]
  },
  {
   "cell_type": "code",
   "execution_count": 294,
   "metadata": {},
   "outputs": [
    {
     "data": {
      "text/plain": [
       " 1.0    1179240\n",
       " 2.0     308885\n",
       " 3.0     125855\n",
       "-1.0     113248\n",
       " 4.0        546\n",
       "Name: person_type, dtype: int64"
      ]
     },
     "execution_count": 294,
     "metadata": {},
     "output_type": "execute_result"
    }
   ],
   "source": [
    "df_train[\"person_type\"].value_counts()"
   ]
  },
  {
   "cell_type": "code",
   "execution_count": 295,
   "metadata": {},
   "outputs": [],
   "source": [
    "df_train[\"person_type\"] = df_train[\"person_type\"].astype(int)\n",
    "df_train[\"person_type\"] = df_train[\"person_type\"].astype(str)"
   ]
  },
  {
   "cell_type": "code",
   "execution_count": 296,
   "metadata": {},
   "outputs": [],
   "source": [
    "df_train['person_type'] = np.where(df_train['person_type'] == \"4\", \"-1\", df_train['person_type'])"
   ]
  },
  {
   "cell_type": "code",
   "execution_count": 297,
   "metadata": {},
   "outputs": [
    {
     "data": {
      "text/plain": [
       "1     1179240\n",
       "2      308885\n",
       "3      125855\n",
       "-1     113794\n",
       "Name: person_type, dtype: int64"
      ]
     },
     "execution_count": 297,
     "metadata": {},
     "output_type": "execute_result"
    }
   ],
   "source": [
    "df_train[\"person_type\"].value_counts()"
   ]
  },
  {
   "cell_type": "markdown",
   "metadata": {},
   "source": [
    "### person_sex"
   ]
  },
  {
   "cell_type": "code",
   "execution_count": 298,
   "metadata": {},
   "outputs": [
    {
     "data": {
      "text/plain": [
       " 1.0    1008746\n",
       " 2.0     605060\n",
       "-1.0     113955\n",
       " 9.0         13\n",
       "Name: person_sex, dtype: int64"
      ]
     },
     "execution_count": 298,
     "metadata": {},
     "output_type": "execute_result"
    }
   ],
   "source": [
    "df_train[\"person_sex\"].value_counts()"
   ]
  },
  {
   "cell_type": "code",
   "execution_count": 299,
   "metadata": {},
   "outputs": [],
   "source": [
    "df_train[\"person_sex\"] = df_train[\"person_sex\"].astype(int)\n",
    "df_train[\"person_sex\"] = df_train[\"person_sex\"].astype(str)"
   ]
  },
  {
   "cell_type": "code",
   "execution_count": 300,
   "metadata": {},
   "outputs": [],
   "source": [
    "df_train = df_train.drop(df_train[df_train.person_sex == \"9\"].index)"
   ]
  },
  {
   "cell_type": "code",
   "execution_count": 301,
   "metadata": {},
   "outputs": [
    {
     "data": {
      "text/plain": [
       "1     1008746\n",
       "2      605060\n",
       "-1     113955\n",
       "Name: person_sex, dtype: int64"
      ]
     },
     "execution_count": 301,
     "metadata": {},
     "output_type": "execute_result"
    }
   ],
   "source": [
    "df_train[\"person_sex\"].value_counts()"
   ]
  },
  {
   "cell_type": "markdown",
   "metadata": {},
   "source": [
    "### vehicule_type"
   ]
  },
  {
   "cell_type": "code",
   "execution_count": 302,
   "metadata": {},
   "outputs": [
    {
     "data": {
      "text/plain": [
       "array([ 7.,  2., 32., 30., 33.,  1., 10., 17., 21., 36., 15., 14., 31.,\n",
       "       39.,  3., 16., 38., 35., 34., 37., 20., 13., 99., 40., 42., 50.,\n",
       "       80., 60.,  0., 43., 41.,  8.,  9., 11.,  4., 19., 90.,  5., 18.,\n",
       "       98., 97., 22., -1., 23.])"
      ]
     },
     "execution_count": 302,
     "metadata": {},
     "output_type": "execute_result"
    }
   ],
   "source": [
    "df_train[\"vehicule_type\"].unique()"
   ]
  },
  {
   "cell_type": "code",
   "execution_count": 303,
   "metadata": {},
   "outputs": [],
   "source": [
    "df_train[\"vehicule_type\"] = df_train[\"vehicule_type\"].astype(int)\n",
    "df_train[\"vehicule_type\"] = df_train[\"vehicule_type\"].astype(str)"
   ]
  },
  {
   "cell_type": "code",
   "execution_count": 304,
   "metadata": {},
   "outputs": [
    {
     "data": {
      "text/plain": [
       "9     702607\n",
       "7     444697\n",
       "1      98301\n",
       "33     56210\n",
       "19     53794\n",
       "-1     47543\n",
       "10     45849\n",
       "3      35528\n",
       "2      31383\n",
       "5      23458\n",
       "8      22176\n",
       "30     19766\n",
       "11     19426\n",
       "21     18115\n",
       "31     15813\n",
       "32     12266\n",
       "34     10317\n",
       "4       8647\n",
       "17      8480\n",
       "15      7264\n",
       "14      6599\n",
       "90      6271\n",
       "20      6069\n",
       "37      5903\n",
       "98      4714\n",
       "13      3105\n",
       "99      3066\n",
       "38      1832\n",
       "97      1458\n",
       "40      1051\n",
       "50       976\n",
       "22       935\n",
       "36       906\n",
       "43       725\n",
       "16       663\n",
       "0        416\n",
       "80       393\n",
       "39       257\n",
       "60       218\n",
       "23       217\n",
       "35       165\n",
       "18       109\n",
       "42        54\n",
       "41        19\n",
       "Name: vehicule_type, dtype: int64"
      ]
     },
     "execution_count": 304,
     "metadata": {},
     "output_type": "execute_result"
    }
   ],
   "source": [
    "df_train[\"vehicule_type\"].value_counts()"
   ]
  },
  {
   "cell_type": "code",
   "execution_count": 305,
   "metadata": {},
   "outputs": [],
   "source": [
    "df_train['vehicule_type'] = np.where(df_train['vehicule_type'] == \"0\", \"-1\", df_train['vehicule_type'])"
   ]
  },
  {
   "cell_type": "code",
   "execution_count": 306,
   "metadata": {},
   "outputs": [
    {
     "data": {
      "text/plain": [
       "9     702607\n",
       "7     444697\n",
       "1      98301\n",
       "33     56210\n",
       "19     53794\n",
       "-1     47959\n",
       "10     45849\n",
       "3      35528\n",
       "2      31383\n",
       "5      23458\n",
       "8      22176\n",
       "30     19766\n",
       "11     19426\n",
       "21     18115\n",
       "31     15813\n",
       "32     12266\n",
       "34     10317\n",
       "4       8647\n",
       "17      8480\n",
       "15      7264\n",
       "14      6599\n",
       "90      6271\n",
       "20      6069\n",
       "37      5903\n",
       "98      4714\n",
       "13      3105\n",
       "99      3066\n",
       "38      1832\n",
       "97      1458\n",
       "40      1051\n",
       "50       976\n",
       "22       935\n",
       "36       906\n",
       "43       725\n",
       "16       663\n",
       "80       393\n",
       "39       257\n",
       "60       218\n",
       "23       217\n",
       "35       165\n",
       "18       109\n",
       "42        54\n",
       "41        19\n",
       "Name: vehicule_type, dtype: int64"
      ]
     },
     "execution_count": 306,
     "metadata": {},
     "output_type": "execute_result"
    }
   ],
   "source": [
    "df_train[\"vehicule_type\"].value_counts()"
   ]
  },
  {
   "cell_type": "markdown",
   "metadata": {},
   "source": [
    "### principal_maneuver_before_accident  "
   ]
  },
  {
   "cell_type": "code",
   "execution_count": 307,
   "metadata": {},
   "outputs": [
    {
     "data": {
      "text/plain": [
       "0           1.0\n",
       "1          15.0\n",
       "2           1.0\n",
       "3          15.0\n",
       "4           1.0\n",
       "           ... \n",
       "2221210    18.0\n",
       "2221211    18.0\n",
       "2221214    18.0\n",
       "2221216     7.0\n",
       "2221217    16.0\n",
       "Name: principal_maneuver_before_accident, Length: 1727761, dtype: float64"
      ]
     },
     "execution_count": 307,
     "metadata": {},
     "output_type": "execute_result"
    }
   ],
   "source": [
    "df_train[\"principal_maneuver_before_accident\"]"
   ]
  },
  {
   "cell_type": "code",
   "execution_count": 308,
   "metadata": {},
   "outputs": [],
   "source": [
    "df_train[\"principal_maneuver_before_accident\"] = df_train[\"principal_maneuver_before_accident\"].astype(int)\n",
    "df_train[\"principal_maneuver_before_accident\"] = df_train[\"principal_maneuver_before_accident\"].astype(str)"
   ]
  },
  {
   "cell_type": "code",
   "execution_count": 309,
   "metadata": {},
   "outputs": [
    {
     "data": {
      "text/plain": [
       "18    465684\n",
       "1     296794\n",
       "2     113708\n",
       "9     113483\n",
       "4      73024\n",
       "15     68574\n",
       "3      63098\n",
       "17     60339\n",
       "13     55708\n",
       "0      53465\n",
       "5      53389\n",
       "-1     47723\n",
       "16     47649\n",
       "7      33723\n",
       "99     24282\n",
       "14     22993\n",
       "10     21679\n",
       "23     19577\n",
       "19     19011\n",
       "11     16342\n",
       "12     16326\n",
       "21     11696\n",
       "6       8929\n",
       "26      6238\n",
       "8       5336\n",
       "20      3700\n",
       "24      2916\n",
       "22      1987\n",
       "25       388\n",
       "Name: principal_maneuver_before_accident, dtype: int64"
      ]
     },
     "execution_count": 309,
     "metadata": {},
     "output_type": "execute_result"
    }
   ],
   "source": [
    "df_train[\"principal_maneuver_before_accident\"].value_counts()"
   ]
  },
  {
   "cell_type": "code",
   "execution_count": 310,
   "metadata": {},
   "outputs": [],
   "source": [
    "df_train['principal_maneuver_before_accident'] = np.where(df_train['principal_maneuver_before_accident'] == \"0\", \"-1\", df_train['principal_maneuver_before_accident'])"
   ]
  },
  {
   "cell_type": "code",
   "execution_count": 311,
   "metadata": {},
   "outputs": [
    {
     "data": {
      "text/plain": [
       "18    465684\n",
       "1     296794\n",
       "2     113708\n",
       "9     113483\n",
       "-1    101188\n",
       "4      73024\n",
       "15     68574\n",
       "3      63098\n",
       "17     60339\n",
       "13     55708\n",
       "5      53389\n",
       "16     47649\n",
       "7      33723\n",
       "99     24282\n",
       "14     22993\n",
       "10     21679\n",
       "23     19577\n",
       "19     19011\n",
       "11     16342\n",
       "12     16326\n",
       "21     11696\n",
       "6       8929\n",
       "26      6238\n",
       "8       5336\n",
       "20      3700\n",
       "24      2916\n",
       "22      1987\n",
       "25       388\n",
       "Name: principal_maneuver_before_accident, dtype: int64"
      ]
     },
     "execution_count": 311,
     "metadata": {},
     "output_type": "execute_result"
    }
   ],
   "source": [
    "df_train[\"principal_maneuver_before_accident\"].value_counts()"
   ]
  },
  {
   "cell_type": "markdown",
   "metadata": {},
   "source": [
    "### vehicule_motor_type"
   ]
  },
  {
   "cell_type": "code",
   "execution_count": 312,
   "metadata": {},
   "outputs": [
    {
     "data": {
      "text/plain": [
       "-1.0     791453\n",
       " 1.0     551176\n",
       " 2.0     336620\n",
       " 0.0      19268\n",
       " 8.0      14664\n",
       " 5.0       7123\n",
       " 3.0       3597\n",
       " 6.0       2825\n",
       " 7.0        626\n",
       " 12.0       279\n",
       " 4.0        125\n",
       " 10.0         4\n",
       " 9.0          1\n",
       "Name: vehicule_motor_type, dtype: int64"
      ]
     },
     "execution_count": 312,
     "metadata": {},
     "output_type": "execute_result"
    }
   ],
   "source": [
    "df_train[\"vehicule_motor_type\"].value_counts()"
   ]
  },
  {
   "cell_type": "code",
   "execution_count": 313,
   "metadata": {},
   "outputs": [],
   "source": [
    "df_train[\"vehicule_motor_type\"] = df_train[\"vehicule_motor_type\"].astype(int)\n",
    "df_train[\"vehicule_motor_type\"] = df_train[\"vehicule_motor_type\"].astype(str)"
   ]
  },
  {
   "cell_type": "code",
   "execution_count": 314,
   "metadata": {},
   "outputs": [],
   "source": [
    "df_train['vehicule_motor_type'] = np.where(df_train['vehicule_motor_type'] == \"0\", \"-1\", df_train['vehicule_motor_type'])"
   ]
  },
  {
   "cell_type": "code",
   "execution_count": 315,
   "metadata": {},
   "outputs": [
    {
     "data": {
      "text/plain": [
       "-1    810721\n",
       "1     551176\n",
       "2     336620\n",
       "8      14664\n",
       "5       7123\n",
       "3       3597\n",
       "6       2825\n",
       "7        626\n",
       "12       279\n",
       "4        125\n",
       "10         4\n",
       "9          1\n",
       "Name: vehicule_motor_type, dtype: int64"
      ]
     },
     "execution_count": 315,
     "metadata": {},
     "output_type": "execute_result"
    }
   ],
   "source": [
    "df_train[\"vehicule_motor_type\"].value_counts()"
   ]
  },
  {
   "cell_type": "markdown",
   "metadata": {},
   "source": [
    "### day                                 "
   ]
  },
  {
   "cell_type": "code",
   "execution_count": 316,
   "metadata": {},
   "outputs": [
    {
     "data": {
      "text/plain": [
       "12.0    61150\n",
       "7.0     60960\n",
       "11.0    59853\n",
       "10.0    58735\n",
       "5.0     58495\n",
       "13.0    58194\n",
       "15.0    57951\n",
       "19.0    57831\n",
       "16.0    57735\n",
       "6.0     57638\n",
       "14.0    57392\n",
       "18.0    57299\n",
       "20.0    57217\n",
       "22.0    57152\n",
       "21.0    56930\n",
       "8.0     56895\n",
       "17.0    56500\n",
       "9.0     56188\n",
       "23.0    56097\n",
       "27.0    55880\n",
       "2.0     55687\n",
       "25.0    55648\n",
       "26.0    55395\n",
       "24.0    55277\n",
       "28.0    54790\n",
       "4.0     53904\n",
       "3.0     53521\n",
       "29.0    53219\n",
       "1.0     51978\n",
       "30.0    51251\n",
       "31.0    30999\n",
       "Name: day, dtype: int64"
      ]
     },
     "execution_count": 316,
     "metadata": {},
     "output_type": "execute_result"
    }
   ],
   "source": [
    "df_train[\"day\"].value_counts()"
   ]
  },
  {
   "cell_type": "code",
   "execution_count": 317,
   "metadata": {},
   "outputs": [],
   "source": [
    "df_train[\"day\"] = df_train[\"day\"].astype(int)"
   ]
  },
  {
   "cell_type": "markdown",
   "metadata": {},
   "source": [
    "### month"
   ]
  },
  {
   "cell_type": "code",
   "execution_count": 318,
   "metadata": {},
   "outputs": [
    {
     "data": {
      "text/plain": [
       "6.0     156258\n",
       "7.0     154373\n",
       "10.0    154057\n",
       "9.0     150698\n",
       "11.0    149782\n",
       "5.0     149199\n",
       "8.0     140549\n",
       "4.0     138054\n",
       "3.0     137303\n",
       "12.0    137129\n",
       "1.0     137085\n",
       "2.0     123274\n",
       "Name: month, dtype: int64"
      ]
     },
     "execution_count": 318,
     "metadata": {},
     "output_type": "execute_result"
    }
   ],
   "source": [
    "df_train[\"month\"].value_counts()"
   ]
  },
  {
   "cell_type": "code",
   "execution_count": 319,
   "metadata": {},
   "outputs": [],
   "source": [
    "df_train[\"month\"] = df_train[\"month\"].astype(int)"
   ]
  },
  {
   "cell_type": "markdown",
   "metadata": {},
   "source": [
    "### country"
   ]
  },
  {
   "cell_type": "code",
   "execution_count": 320,
   "metadata": {},
   "outputs": [
    {
     "data": {
      "text/plain": [
       "B    1023182\n",
       "A     704579\n",
       "Name: country, dtype: int64"
      ]
     },
     "execution_count": 320,
     "metadata": {},
     "output_type": "execute_result"
    }
   ],
   "source": [
    "df_train[\"country\"].value_counts()"
   ]
  },
  {
   "cell_type": "markdown",
   "metadata": {},
   "source": [
    "## Visualizations count by accident_type"
   ]
  },
  {
   "cell_type": "markdown",
   "metadata": {},
   "source": [
    "### accident_type"
   ]
  },
  {
   "cell_type": "code",
   "execution_count": 321,
   "metadata": {},
   "outputs": [
    {
     "data": {
      "text/plain": [
       "<seaborn.axisgrid.FacetGrid at 0x1c6a8511b20>"
      ]
     },
     "execution_count": 321,
     "metadata": {},
     "output_type": "execute_result"
    },
    {
     "data": {
      "image/png": "[encoded data removed]",
      "text/plain": [
       "<Figure size 360x360 with 1 Axes>"
      ]
     },
     "metadata": {
      "needs_background": "light"
     },
     "output_type": "display_data"
    }
   ],
   "source": [
    "sns.catplot(x=\"accident_type\", kind=\"count\", data=df_train)"
   ]
  },
  {
   "cell_type": "markdown",
   "metadata": {},
   "source": [
    "### year"
   ]
  },
  {
   "cell_type": "code",
   "execution_count": 322,
   "metadata": {},
   "outputs": [
    {
     "data": {
      "text/plain": [
       "<seaborn.axisgrid.FacetGrid at 0x1c6a1d19be0>"
      ]
     },
     "execution_count": 322,
     "metadata": {},
     "output_type": "execute_result"
    },
    {
     "data": {
      "image/png": "[encoded data removed]",
      "text/plain": [
       "<Figure size 437.875x360 with 1 Axes>"
      ]
     },
     "metadata": {
      "needs_background": "light"
     },
     "output_type": "display_data"
    }
   ],
   "source": [
    "sns.catplot(x=\"year\", kind=\"count\", hue=\"accident_type\", data=df_train)"
   ]
  },
  {
   "cell_type": "markdown",
   "metadata": {},
   "source": [
    "### department"
   ]
  },
  {
   "cell_type": "code",
   "execution_count": 323,
   "metadata": {},
   "outputs": [
    {
     "data": {
      "text/plain": [
       "<seaborn.axisgrid.FacetGrid at 0x1c7a10310a0>"
      ]
     },
     "execution_count": 323,
     "metadata": {},
     "output_type": "execute_result"
    },
    {
     "data": {
      "image/png": "[encoded data removed]",
      "text/plain": [
       "<Figure size 5837.88x576 with 1 Axes>"
      ]
     },
     "metadata": {
      "needs_background": "light"
     },
     "output_type": "display_data"
    }
   ],
   "source": [
    "sns.catplot(x=\"department\", kind=\"count\", hue=\"accident_type\", data=df_train, height=8, aspect=10)"
   ]
  },
  {
   "cell_type": "code",
   "execution_count": 324,
   "metadata": {},
   "outputs": [
    {
     "data": {
      "text/plain": [
       "<seaborn.axisgrid.FacetGrid at 0x1c7ad0c6310>"
      ]
     },
     "execution_count": 324,
     "metadata": {},
     "output_type": "execute_result"
    },
    {
     "data": {
      "image/png": "[encoded data removed]",
      "text/plain": [
       "<Figure size 5806.12x576 with 1 Axes>"
      ]
     },
     "metadata": {
      "needs_background": "light"
     },
     "output_type": "display_data"
    }
   ],
   "source": [
    "sns.catplot(x=\"department\", kind=\"count\", hue=\"country\", data=df_train, height=8, aspect=10)"
   ]
  },
  {
   "cell_type": "markdown",
   "metadata": {},
   "source": [
    "### road_category"
   ]
  },
  {
   "cell_type": "code",
   "execution_count": 325,
   "metadata": {},
   "outputs": [
    {
     "data": {
      "text/plain": [
       "<seaborn.axisgrid.FacetGrid at 0x1c7c8054a30>"
      ]
     },
     "execution_count": 325,
     "metadata": {},
     "output_type": "execute_result"
    },
    {
     "data": {
      "image/png": "[encoded data removed]",
      "text/plain": [
       "<Figure size 437.875x360 with 1 Axes>"
      ]
     },
     "metadata": {
      "needs_background": "light"
     },
     "output_type": "display_data"
    }
   ],
   "source": [
    "sns.catplot(x=\"road_category\", kind=\"count\", hue=\"accident_type\", data=df_train)"
   ]
  },
  {
   "cell_type": "markdown",
   "metadata": {},
   "source": [
    "### traffic_type"
   ]
  },
  {
   "cell_type": "code",
   "execution_count": 326,
   "metadata": {},
   "outputs": [
    {
     "data": {
      "text/plain": [
       "<seaborn.axisgrid.FacetGrid at 0x1c7ad0ddf70>"
      ]
     },
     "execution_count": 326,
     "metadata": {},
     "output_type": "execute_result"
    },
    {
     "data": {
      "image/png": "[encoded data removed]",
      "text/plain": [
       "<Figure size 437.875x360 with 1 Axes>"
      ]
     },
     "metadata": {
      "needs_background": "light"
     },
     "output_type": "display_data"
    }
   ],
   "source": [
    "sns.catplot(x=\"traffic_type\", kind=\"count\", hue=\"accident_type\", data=df_train)"
   ]
  },
  {
   "cell_type": "markdown",
   "metadata": {},
   "source": [
    "### speed_limitation"
   ]
  },
  {
   "cell_type": "code",
   "execution_count": 327,
   "metadata": {},
   "outputs": [
    {
     "data": {
      "text/plain": [
       "<seaborn.axisgrid.FacetGrid at 0x1c6a1ac3790>"
      ]
     },
     "execution_count": 327,
     "metadata": {},
     "output_type": "execute_result"
    },
    {
     "data": {
      "image/png": "[encoded data removed]",
      "text/plain": [
       "<Figure size 1229.88x576 with 1 Axes>"
      ]
     },
     "metadata": {
      "needs_background": "light"
     },
     "output_type": "display_data"
    }
   ],
   "source": [
    "sns.catplot(x=\"speed_limitation\", kind=\"count\", hue=\"accident_type\", data=df_train, height=8, aspect=2)"
   ]
  },
  {
   "cell_type": "markdown",
   "metadata": {},
   "source": [
    "### intersection"
   ]
  },
  {
   "cell_type": "code",
   "execution_count": 328,
   "metadata": {},
   "outputs": [
    {
     "data": {
      "text/plain": [
       "<seaborn.axisgrid.FacetGrid at 0x1c7a10319d0>"
      ]
     },
     "execution_count": 328,
     "metadata": {},
     "output_type": "execute_result"
    },
    {
     "data": {
      "image/png": "[encoded data removed]",
      "text/plain": [
       "<Figure size 437.875x360 with 1 Axes>"
      ]
     },
     "metadata": {
      "needs_background": "light"
     },
     "output_type": "display_data"
    }
   ],
   "source": [
    "sns.catplot(x=\"intersection\", kind=\"count\", hue=\"accident_type\", data=df_train)"
   ]
  },
  {
   "cell_type": "markdown",
   "metadata": {},
   "source": [
    "### pedestrian_localisation"
   ]
  },
  {
   "cell_type": "code",
   "execution_count": 329,
   "metadata": {},
   "outputs": [
    {
     "data": {
      "text/plain": [
       "<seaborn.axisgrid.FacetGrid at 0x1c7a6e36640>"
      ]
     },
     "execution_count": 329,
     "metadata": {},
     "output_type": "execute_result"
    },
    {
     "data": {
      "image/png": "[encoded data removed]",
      "text/plain": [
       "<Figure size 437.875x360 with 1 Axes>"
      ]
     },
     "metadata": {
      "needs_background": "light"
     },
     "output_type": "display_data"
    }
   ],
   "source": [
    "sns.catplot(x=\"pedestrian_localisation\", kind=\"count\", hue=\"accident_type\", data=df_train)"
   ]
  },
  {
   "cell_type": "markdown",
   "metadata": {},
   "source": [
    "### light_condition"
   ]
  },
  {
   "cell_type": "code",
   "execution_count": 330,
   "metadata": {},
   "outputs": [
    {
     "data": {
      "text/plain": [
       "<seaborn.axisgrid.FacetGrid at 0x1c7c9a72130>"
      ]
     },
     "execution_count": 330,
     "metadata": {},
     "output_type": "execute_result"
    },
    {
     "data": {
      "image/png": "[encoded data removed]",
      "text/plain": [
       "<Figure size 437.875x360 with 1 Axes>"
      ]
     },
     "metadata": {
      "needs_background": "light"
     },
     "output_type": "display_data"
    }
   ],
   "source": [
    "sns.catplot(x=\"light_condition\", kind=\"count\", hue=\"accident_type\", data=df_train)"
   ]
  },
  {
   "cell_type": "markdown",
   "metadata": {},
   "source": [
    "### weather_conditions"
   ]
  },
  {
   "cell_type": "code",
   "execution_count": 331,
   "metadata": {},
   "outputs": [
    {
     "data": {
      "text/plain": [
       "<seaborn.axisgrid.FacetGrid at 0x1c7c4053d60>"
      ]
     },
     "execution_count": 331,
     "metadata": {},
     "output_type": "execute_result"
    },
    {
     "data": {
      "image/png": "[encoded data removed]",
      "text/plain": [
       "<Figure size 437.875x360 with 1 Axes>"
      ]
     },
     "metadata": {
      "needs_background": "light"
     },
     "output_type": "display_data"
    }
   ],
   "source": [
    "sns.catplot(x=\"weather_conditions\", kind=\"count\", hue=\"accident_type\", data=df_train)"
   ]
  },
  {
   "cell_type": "markdown",
   "metadata": {},
   "source": [
    "### road_condition"
   ]
  },
  {
   "cell_type": "code",
   "execution_count": 332,
   "metadata": {},
   "outputs": [
    {
     "data": {
      "text/plain": [
       "<seaborn.axisgrid.FacetGrid at 0x1c5b55c2a90>"
      ]
     },
     "execution_count": 332,
     "metadata": {},
     "output_type": "execute_result"
    },
    {
     "data": {
      "image/png": "[encoded data removed]",
      "text/plain": [
       "<Figure size 437.875x360 with 1 Axes>"
      ]
     },
     "metadata": {
      "needs_background": "light"
     },
     "output_type": "display_data"
    }
   ],
   "source": [
    "sns.catplot(x=\"road_condition\", kind=\"count\", hue=\"accident_type\", data=df_train)"
   ]
  },
  {
   "cell_type": "markdown",
   "metadata": {},
   "source": [
    "### obstacle_hit_type"
   ]
  },
  {
   "cell_type": "code",
   "execution_count": 333,
   "metadata": {},
   "outputs": [
    {
     "data": {
      "text/plain": [
       "<seaborn.axisgrid.FacetGrid at 0x1c5b395fe20>"
      ]
     },
     "execution_count": 333,
     "metadata": {},
     "output_type": "execute_result"
    },
    {
     "data": {
      "image/png": "[encoded data removed]",
      "text/plain": [
       "<Figure size 1229.88x576 with 1 Axes>"
      ]
     },
     "metadata": {
      "needs_background": "light"
     },
     "output_type": "display_data"
    }
   ],
   "source": [
    "sns.catplot(x=\"obstacle_hit_type\", kind=\"count\", hue=\"accident_type\", data=df_train, height=8, aspect=2)"
   ]
  },
  {
   "cell_type": "markdown",
   "metadata": {},
   "source": [
    "### person_type"
   ]
  },
  {
   "cell_type": "code",
   "execution_count": 334,
   "metadata": {},
   "outputs": [
    {
     "data": {
      "text/plain": [
       "<seaborn.axisgrid.FacetGrid at 0x1c7c46efbb0>"
      ]
     },
     "execution_count": 334,
     "metadata": {},
     "output_type": "execute_result"
    },
    {
     "data": {
      "image/png": "[encoded data removed]",
      "text/plain": [
       "<Figure size 437.875x360 with 1 Axes>"
      ]
     },
     "metadata": {
      "needs_background": "light"
     },
     "output_type": "display_data"
    }
   ],
   "source": [
    "sns.catplot(x=\"person_type\", kind=\"count\", hue=\"accident_type\", data=df_train)"
   ]
  },
  {
   "cell_type": "markdown",
   "metadata": {},
   "source": [
    "### person_sex"
   ]
  },
  {
   "cell_type": "code",
   "execution_count": 335,
   "metadata": {},
   "outputs": [
    {
     "data": {
      "text/plain": [
       "<seaborn.axisgrid.FacetGrid at 0x1c7c4b628e0>"
      ]
     },
     "execution_count": 335,
     "metadata": {},
     "output_type": "execute_result"
    },
    {
     "data": {
      "image/png": "[encoded data removed]",
      "text/plain": [
       "<Figure size 437.875x360 with 1 Axes>"
      ]
     },
     "metadata": {
      "needs_background": "light"
     },
     "output_type": "display_data"
    }
   ],
   "source": [
    "sns.catplot(x=\"person_sex\", kind=\"count\", hue=\"accident_type\", data=df_train)"
   ]
  },
  {
   "cell_type": "markdown",
   "metadata": {},
   "source": [
    "### vehicule_type"
   ]
  },
  {
   "cell_type": "code",
   "execution_count": 336,
   "metadata": {},
   "outputs": [
    {
     "data": {
      "text/plain": [
       "<seaborn.axisgrid.FacetGrid at 0x1c7c42c0f10>"
      ]
     },
     "execution_count": 336,
     "metadata": {},
     "output_type": "execute_result"
    },
    {
     "data": {
      "image/png": "[encoded data removed]",
      "text/plain": [
       "<Figure size 1229.88x576 with 1 Axes>"
      ]
     },
     "metadata": {
      "needs_background": "light"
     },
     "output_type": "display_data"
    }
   ],
   "source": [
    "sns.catplot(x=\"vehicule_type\", kind=\"count\", hue=\"accident_type\", data=df_train, height=8, aspect=2)"
   ]
  },
  {
   "cell_type": "markdown",
   "metadata": {},
   "source": [
    "### principal_maneuver_before_accident"
   ]
  },
  {
   "cell_type": "code",
   "execution_count": 337,
   "metadata": {},
   "outputs": [
    {
     "data": {
      "text/plain": [
       "<seaborn.axisgrid.FacetGrid at 0x1c7c4b78c40>"
      ]
     },
     "execution_count": 337,
     "metadata": {},
     "output_type": "execute_result"
    },
    {
     "data": {
      "image/png": "[encoded data removed]",
      "text/plain": [
       "<Figure size 1229.88x576 with 1 Axes>"
      ]
     },
     "metadata": {
      "needs_background": "light"
     },
     "output_type": "display_data"
    }
   ],
   "source": [
    "sns.catplot(x=\"principal_maneuver_before_accident\", kind=\"count\", hue=\"accident_type\", data=df_train, height=8, aspect=2)"
   ]
  },
  {
   "cell_type": "markdown",
   "metadata": {},
   "source": [
    "### vehicule_motor_type"
   ]
  },
  {
   "cell_type": "code",
   "execution_count": 338,
   "metadata": {},
   "outputs": [
    {
     "data": {
      "text/plain": [
       "<seaborn.axisgrid.FacetGrid at 0x1c5b3d0b340>"
      ]
     },
     "execution_count": 338,
     "metadata": {},
     "output_type": "execute_result"
    },
    {
     "data": {
      "image/png": "[encoded data removed]",
      "text/plain": [
       "<Figure size 437.875x360 with 1 Axes>"
      ]
     },
     "metadata": {
      "needs_background": "light"
     },
     "output_type": "display_data"
    }
   ],
   "source": [
    "sns.catplot(x=\"vehicule_motor_type\", kind=\"count\", hue=\"accident_type\", data=df_train)"
   ]
  },
  {
   "cell_type": "markdown",
   "metadata": {},
   "source": [
    "### day"
   ]
  },
  {
   "cell_type": "code",
   "execution_count": 339,
   "metadata": {},
   "outputs": [
    {
     "data": {
      "text/plain": [
       "<seaborn.axisgrid.FacetGrid at 0x1c7c4dd2280>"
      ]
     },
     "execution_count": 339,
     "metadata": {},
     "output_type": "execute_result"
    },
    {
     "data": {
      "image/png": "[encoded data removed]",
      "text/plain": [
       "<Figure size 1229.88x576 with 1 Axes>"
      ]
     },
     "metadata": {
      "needs_background": "light"
     },
     "output_type": "display_data"
    }
   ],
   "source": [
    "sns.catplot(x=\"day\", kind=\"count\", hue=\"accident_type\", data=df_train, height=8, aspect=2)"
   ]
  },
  {
   "cell_type": "markdown",
   "metadata": {},
   "source": [
    "### month"
   ]
  },
  {
   "cell_type": "code",
   "execution_count": 340,
   "metadata": {},
   "outputs": [
    {
     "data": {
      "text/plain": [
       "<seaborn.axisgrid.FacetGrid at 0x1c5b50de220>"
      ]
     },
     "execution_count": 340,
     "metadata": {},
     "output_type": "execute_result"
    },
    {
     "data": {
      "image/png": "[encoded data removed]",
      "text/plain": [
       "<Figure size 437.875x360 with 1 Axes>"
      ]
     },
     "metadata": {
      "needs_background": "light"
     },
     "output_type": "display_data"
    }
   ],
   "source": [
    "sns.catplot(x=\"month\", kind=\"count\", hue=\"accident_type\", data=df_train)"
   ]
  },
  {
   "cell_type": "markdown",
   "metadata": {},
   "source": [
    "### country"
   ]
  },
  {
   "cell_type": "code",
   "execution_count": 341,
   "metadata": {},
   "outputs": [
    {
     "data": {
      "text/plain": [
       "<seaborn.axisgrid.FacetGrid at 0x1c7c25d6c40>"
      ]
     },
     "execution_count": 341,
     "metadata": {},
     "output_type": "execute_result"
    },
    {
     "data": {
      "image/png": "[encoded data removed]",
      "text/plain": [
       "<Figure size 437.875x360 with 1 Axes>"
      ]
     },
     "metadata": {
      "needs_background": "light"
     },
     "output_type": "display_data"
    }
   ],
   "source": [
    "sns.catplot(x=\"country\", kind=\"count\", hue=\"accident_type\", data=df_train)"
   ]
  },
  {
   "cell_type": "code",
   "execution_count": 342,
   "metadata": {},
   "outputs": [
    {
     "name": "stdout",
     "output_type": "stream",
     "text": [
      "<class 'pandas.core.frame.DataFrame'>\n",
      "Int64Index: 1727761 entries, 0 to 2221217\n",
      "Data columns (total 23 columns):\n",
      " #   Column                              Dtype  \n",
      "---  ------                              -----  \n",
      " 0   accident_id                         object \n",
      " 1   year                                int32  \n",
      " 2   longitude                           object \n",
      " 3   latitude                            object \n",
      " 4   department                          object \n",
      " 5   accident_type                       bool   \n",
      " 6   road_category                       int32  \n",
      " 7   traffic_type                        object \n",
      " 8   speed_limitation                    float64\n",
      " 9   intersection                        object \n",
      " 10  pedestrian_localisation             object \n",
      " 11  light_condition                     object \n",
      " 12  weather_conditions                  object \n",
      " 13  road_condition                      float64\n",
      " 14  obstacle_hit_type                   object \n",
      " 15  person_type                         object \n",
      " 16  person_sex                          object \n",
      " 17  vehicule_type                       object \n",
      " 18  principal_maneuver_before_accident  object \n",
      " 19  vehicule_motor_type                 object \n",
      " 20  day                                 int32  \n",
      " 21  month                               int32  \n",
      " 22  country                             object \n",
      "dtypes: bool(1), float64(2), int32(4), object(16)\n",
      "memory usage: 278.5+ MB\n"
     ]
    }
   ],
   "source": [
    "df_train.info()"
   ]
  },
  {
   "cell_type": "markdown",
   "metadata": {},
   "source": [
    "## Heatmap"
   ]
  },
  {
   "cell_type": "code",
   "execution_count": 343,
   "metadata": {},
   "outputs": [
    {
     "data": {
      "text/plain": [
       "Text(0.5, 1.0, 'Correlation Heatmap')"
      ]
     },
     "execution_count": 343,
     "metadata": {},
     "output_type": "execute_result"
    },
    {
     "data": {
      "image/png": "[encoded data removed]",
      "text/plain": [
       "<Figure size 1152x576 with 2 Axes>"
      ]
     },
     "metadata": {
      "needs_background": "light"
     },
     "output_type": "display_data"
    }
   ],
   "source": [
    "plt.figure(figsize=(16,8))\n",
    "mask = np.triu(np.ones_like(df_train.corr(), dtype=np.bool))\n",
    "heatmap = sns.heatmap(df_train.corr(), mask=mask, vmin=-1, vmax=1,annot=True, cmap='BrBG')\n",
    "heatmap.set_title('Correlation Heatmap', fontdict={'fontsize':12}, pad=12)"
   ]
  },
  {
   "cell_type": "markdown",
   "metadata": {},
   "source": [
    "## Feature engineering"
   ]
  },
  {
   "cell_type": "code",
   "execution_count": 344,
   "metadata": {},
   "outputs": [
    {
     "name": "stdout",
     "output_type": "stream",
     "text": [
      "<class 'pandas.core.frame.DataFrame'>\n",
      "Int64Index: 1727761 entries, 0 to 2221217\n",
      "Data columns (total 23 columns):\n",
      " #   Column                              Dtype  \n",
      "---  ------                              -----  \n",
      " 0   accident_id                         object \n",
      " 1   year                                int32  \n",
      " 2   longitude                           object \n",
      " 3   latitude                            object \n",
      " 4   department                          object \n",
      " 5   accident_type                       bool   \n",
      " 6   road_category                       int32  \n",
      " 7   traffic_type                        object \n",
      " 8   speed_limitation                    float64\n",
      " 9   intersection                        object \n",
      " 10  pedestrian_localisation             object \n",
      " 11  light_condition                     object \n",
      " 12  weather_conditions                  object \n",
      " 13  road_condition                      float64\n",
      " 14  obstacle_hit_type                   object \n",
      " 15  person_type                         object \n",
      " 16  person_sex                          object \n",
      " 17  vehicule_type                       object \n",
      " 18  principal_maneuver_before_accident  object \n",
      " 19  vehicule_motor_type                 object \n",
      " 20  day                                 int32  \n",
      " 21  month                               int32  \n",
      " 22  country                             object \n",
      "dtypes: bool(1), float64(2), int32(4), object(16)\n",
      "memory usage: 278.5+ MB\n"
     ]
    }
   ],
   "source": [
    "df_train.info()"
   ]
  },
  {
   "cell_type": "code",
   "execution_count": 345,
   "metadata": {},
   "outputs": [],
   "source": [
    "train = df_train.drop([\"longitude\", \"latitude\", \"day\", \"month\"], axis=1)"
   ]
  },
  {
   "cell_type": "markdown",
   "metadata": {},
   "source": [
    "### Add column with number of people involved in an accident"
   ]
  },
  {
   "cell_type": "code",
   "execution_count": 346,
   "metadata": {},
   "outputs": [
    {
     "data": {
      "text/html": [
       "<div>\n",
       "<style scoped>\n",
       "    .dataframe tbody tr th:only-of-type {\n",
       "        vertical-align: middle;\n",
       "    }\n",
       "\n",
       "    .dataframe tbody tr th {\n",
       "        vertical-align: top;\n",
       "    }\n",
       "\n",
       "    .dataframe thead th {\n",
       "        text-align: right;\n",
       "    }\n",
       "</style>\n",
       "<table border=\"1\" class=\"dataframe\">\n",
       "  <thead>\n",
       "    <tr style=\"text-align: right;\">\n",
       "      <th></th>\n",
       "      <th>year</th>\n",
       "    </tr>\n",
       "    <tr>\n",
       "      <th>accident_id</th>\n",
       "      <th></th>\n",
       "    </tr>\n",
       "  </thead>\n",
       "  <tbody>\n",
       "    <tr>\n",
       "      <th>x01600000001</th>\n",
       "      <td>4</td>\n",
       "    </tr>\n",
       "    <tr>\n",
       "      <th>x01600000003</th>\n",
       "      <td>2</td>\n",
       "    </tr>\n",
       "    <tr>\n",
       "      <th>x01600000004</th>\n",
       "      <td>6</td>\n",
       "    </tr>\n",
       "    <tr>\n",
       "      <th>x01600000005</th>\n",
       "      <td>6</td>\n",
       "    </tr>\n",
       "    <tr>\n",
       "      <th>x01600000006</th>\n",
       "      <td>2</td>\n",
       "    </tr>\n",
       "    <tr>\n",
       "      <th>...</th>\n",
       "      <td>...</td>\n",
       "    </tr>\n",
       "    <tr>\n",
       "      <th>x019xx09x9333</th>\n",
       "      <td>2</td>\n",
       "    </tr>\n",
       "    <tr>\n",
       "      <th>x019xx09x9436</th>\n",
       "      <td>2</td>\n",
       "    </tr>\n",
       "    <tr>\n",
       "      <th>x019xx09xx558</th>\n",
       "      <td>2</td>\n",
       "    </tr>\n",
       "    <tr>\n",
       "      <th>x019xx09xx871</th>\n",
       "      <td>1</td>\n",
       "    </tr>\n",
       "    <tr>\n",
       "      <th>x019xx09xx877</th>\n",
       "      <td>2</td>\n",
       "    </tr>\n",
       "  </tbody>\n",
       "</table>\n",
       "<p>742813 rows × 1 columns</p>\n",
       "</div>"
      ],
      "text/plain": [
       "               year\n",
       "accident_id        \n",
       "x01600000001      4\n",
       "x01600000003      2\n",
       "x01600000004      6\n",
       "x01600000005      6\n",
       "x01600000006      2\n",
       "...             ...\n",
       "x019xx09x9333     2\n",
       "x019xx09x9436     2\n",
       "x019xx09xx558     2\n",
       "x019xx09xx871     1\n",
       "x019xx09xx877     2\n",
       "\n",
       "[742813 rows x 1 columns]"
      ]
     },
     "execution_count": 346,
     "metadata": {},
     "output_type": "execute_result"
    }
   ],
   "source": [
    "df_nb_ppl = train[[\"accident_id\",\"year\"]].groupby(\"accident_id\").agg({\"year\":\"count\"})\n",
    "df_nb_ppl"
   ]
  },
  {
   "cell_type": "code",
   "execution_count": 347,
   "metadata": {},
   "outputs": [
    {
     "data": {
      "text/html": [
       "<div>\n",
       "<style scoped>\n",
       "    .dataframe tbody tr th:only-of-type {\n",
       "        vertical-align: middle;\n",
       "    }\n",
       "\n",
       "    .dataframe tbody tr th {\n",
       "        vertical-align: top;\n",
       "    }\n",
       "\n",
       "    .dataframe thead th {\n",
       "        text-align: right;\n",
       "    }\n",
       "</style>\n",
       "<table border=\"1\" class=\"dataframe\">\n",
       "  <thead>\n",
       "    <tr style=\"text-align: right;\">\n",
       "      <th></th>\n",
       "      <th>accident_id</th>\n",
       "      <th>nb_ppl</th>\n",
       "    </tr>\n",
       "  </thead>\n",
       "  <tbody>\n",
       "    <tr>\n",
       "      <th>0</th>\n",
       "      <td>x01600000001</td>\n",
       "      <td>4</td>\n",
       "    </tr>\n",
       "    <tr>\n",
       "      <th>1</th>\n",
       "      <td>x01600000003</td>\n",
       "      <td>2</td>\n",
       "    </tr>\n",
       "    <tr>\n",
       "      <th>2</th>\n",
       "      <td>x01600000004</td>\n",
       "      <td>6</td>\n",
       "    </tr>\n",
       "    <tr>\n",
       "      <th>3</th>\n",
       "      <td>x01600000005</td>\n",
       "      <td>6</td>\n",
       "    </tr>\n",
       "    <tr>\n",
       "      <th>4</th>\n",
       "      <td>x01600000006</td>\n",
       "      <td>2</td>\n",
       "    </tr>\n",
       "    <tr>\n",
       "      <th>...</th>\n",
       "      <td>...</td>\n",
       "      <td>...</td>\n",
       "    </tr>\n",
       "    <tr>\n",
       "      <th>742808</th>\n",
       "      <td>x019xx09x9333</td>\n",
       "      <td>2</td>\n",
       "    </tr>\n",
       "    <tr>\n",
       "      <th>742809</th>\n",
       "      <td>x019xx09x9436</td>\n",
       "      <td>2</td>\n",
       "    </tr>\n",
       "    <tr>\n",
       "      <th>742810</th>\n",
       "      <td>x019xx09xx558</td>\n",
       "      <td>2</td>\n",
       "    </tr>\n",
       "    <tr>\n",
       "      <th>742811</th>\n",
       "      <td>x019xx09xx871</td>\n",
       "      <td>1</td>\n",
       "    </tr>\n",
       "    <tr>\n",
       "      <th>742812</th>\n",
       "      <td>x019xx09xx877</td>\n",
       "      <td>2</td>\n",
       "    </tr>\n",
       "  </tbody>\n",
       "</table>\n",
       "<p>742813 rows × 2 columns</p>\n",
       "</div>"
      ],
      "text/plain": [
       "          accident_id  nb_ppl\n",
       "0        x01600000001       4\n",
       "1        x01600000003       2\n",
       "2        x01600000004       6\n",
       "3        x01600000005       6\n",
       "4        x01600000006       2\n",
       "...               ...     ...\n",
       "742808  x019xx09x9333       2\n",
       "742809  x019xx09x9436       2\n",
       "742810  x019xx09xx558       2\n",
       "742811  x019xx09xx871       1\n",
       "742812  x019xx09xx877       2\n",
       "\n",
       "[742813 rows x 2 columns]"
      ]
     },
     "execution_count": 347,
     "metadata": {},
     "output_type": "execute_result"
    }
   ],
   "source": [
    "df_nb_ppl = df_nb_ppl.rename(columns ={\"year\": \"nb_ppl\"}).reset_index()\n",
    "df_nb_ppl"
   ]
  },
  {
   "cell_type": "code",
   "execution_count": 348,
   "metadata": {},
   "outputs": [
    {
     "data": {
      "text/html": [
       "<div>\n",
       "<style scoped>\n",
       "    .dataframe tbody tr th:only-of-type {\n",
       "        vertical-align: middle;\n",
       "    }\n",
       "\n",
       "    .dataframe tbody tr th {\n",
       "        vertical-align: top;\n",
       "    }\n",
       "\n",
       "    .dataframe thead th {\n",
       "        text-align: right;\n",
       "    }\n",
       "</style>\n",
       "<table border=\"1\" class=\"dataframe\">\n",
       "  <thead>\n",
       "    <tr style=\"text-align: right;\">\n",
       "      <th></th>\n",
       "      <th>accident_id</th>\n",
       "      <th>nb_ppl</th>\n",
       "    </tr>\n",
       "  </thead>\n",
       "  <tbody>\n",
       "    <tr>\n",
       "      <th>0</th>\n",
       "      <td>x01600000001</td>\n",
       "      <td>4</td>\n",
       "    </tr>\n",
       "    <tr>\n",
       "      <th>1</th>\n",
       "      <td>x01600000003</td>\n",
       "      <td>2</td>\n",
       "    </tr>\n",
       "    <tr>\n",
       "      <th>2</th>\n",
       "      <td>x01600000004</td>\n",
       "      <td>6</td>\n",
       "    </tr>\n",
       "    <tr>\n",
       "      <th>3</th>\n",
       "      <td>x01600000005</td>\n",
       "      <td>6</td>\n",
       "    </tr>\n",
       "    <tr>\n",
       "      <th>4</th>\n",
       "      <td>x01600000006</td>\n",
       "      <td>2</td>\n",
       "    </tr>\n",
       "    <tr>\n",
       "      <th>...</th>\n",
       "      <td>...</td>\n",
       "      <td>...</td>\n",
       "    </tr>\n",
       "    <tr>\n",
       "      <th>742808</th>\n",
       "      <td>x019xx09x9333</td>\n",
       "      <td>2</td>\n",
       "    </tr>\n",
       "    <tr>\n",
       "      <th>742809</th>\n",
       "      <td>x019xx09x9436</td>\n",
       "      <td>2</td>\n",
       "    </tr>\n",
       "    <tr>\n",
       "      <th>742810</th>\n",
       "      <td>x019xx09xx558</td>\n",
       "      <td>2</td>\n",
       "    </tr>\n",
       "    <tr>\n",
       "      <th>742811</th>\n",
       "      <td>x019xx09xx871</td>\n",
       "      <td>1</td>\n",
       "    </tr>\n",
       "    <tr>\n",
       "      <th>742812</th>\n",
       "      <td>x019xx09xx877</td>\n",
       "      <td>2</td>\n",
       "    </tr>\n",
       "  </tbody>\n",
       "</table>\n",
       "<p>742813 rows × 2 columns</p>\n",
       "</div>"
      ],
      "text/plain": [
       "          accident_id  nb_ppl\n",
       "0        x01600000001       4\n",
       "1        x01600000003       2\n",
       "2        x01600000004       6\n",
       "3        x01600000005       6\n",
       "4        x01600000006       2\n",
       "...               ...     ...\n",
       "742808  x019xx09x9333       2\n",
       "742809  x019xx09x9436       2\n",
       "742810  x019xx09xx558       2\n",
       "742811  x019xx09xx871       1\n",
       "742812  x019xx09xx877       2\n",
       "\n",
       "[742813 rows x 2 columns]"
      ]
     },
     "execution_count": 348,
     "metadata": {},
     "output_type": "execute_result"
    }
   ],
   "source": [
    "df_nb_ppl"
   ]
  },
  {
   "cell_type": "code",
   "execution_count": 349,
   "metadata": {},
   "outputs": [],
   "source": [
    "train = pd.merge(train, df_nb_ppl, how='left', on=\"accident_id\")"
   ]
  },
  {
   "cell_type": "code",
   "execution_count": 350,
   "metadata": {},
   "outputs": [
    {
     "data": {
      "text/html": [
       "<div>\n",
       "<style scoped>\n",
       "    .dataframe tbody tr th:only-of-type {\n",
       "        vertical-align: middle;\n",
       "    }\n",
       "\n",
       "    .dataframe tbody tr th {\n",
       "        vertical-align: top;\n",
       "    }\n",
       "\n",
       "    .dataframe thead th {\n",
       "        text-align: right;\n",
       "    }\n",
       "</style>\n",
       "<table border=\"1\" class=\"dataframe\">\n",
       "  <thead>\n",
       "    <tr style=\"text-align: right;\">\n",
       "      <th></th>\n",
       "      <th>accident_id</th>\n",
       "      <th>year</th>\n",
       "      <th>department</th>\n",
       "      <th>accident_type</th>\n",
       "      <th>road_category</th>\n",
       "      <th>traffic_type</th>\n",
       "      <th>speed_limitation</th>\n",
       "      <th>intersection</th>\n",
       "      <th>pedestrian_localisation</th>\n",
       "      <th>light_condition</th>\n",
       "      <th>weather_conditions</th>\n",
       "      <th>road_condition</th>\n",
       "      <th>obstacle_hit_type</th>\n",
       "      <th>person_type</th>\n",
       "      <th>person_sex</th>\n",
       "      <th>vehicule_type</th>\n",
       "      <th>principal_maneuver_before_accident</th>\n",
       "      <th>vehicule_motor_type</th>\n",
       "      <th>country</th>\n",
       "      <th>nb_ppl</th>\n",
       "    </tr>\n",
       "  </thead>\n",
       "  <tbody>\n",
       "    <tr>\n",
       "      <th>0</th>\n",
       "      <td>x01600000001</td>\n",
       "      <td>2016</td>\n",
       "      <td>590</td>\n",
       "      <td>False</td>\n",
       "      <td>3</td>\n",
       "      <td>2</td>\n",
       "      <td>-1.0000</td>\n",
       "      <td>1</td>\n",
       "      <td>0</td>\n",
       "      <td>1</td>\n",
       "      <td>8</td>\n",
       "      <td>1.0</td>\n",
       "      <td>0</td>\n",
       "      <td>1</td>\n",
       "      <td>2</td>\n",
       "      <td>7</td>\n",
       "      <td>1</td>\n",
       "      <td>-1</td>\n",
       "      <td>A</td>\n",
       "      <td>4</td>\n",
       "    </tr>\n",
       "    <tr>\n",
       "      <th>1</th>\n",
       "      <td>x01600000001</td>\n",
       "      <td>2016</td>\n",
       "      <td>590</td>\n",
       "      <td>False</td>\n",
       "      <td>3</td>\n",
       "      <td>2</td>\n",
       "      <td>-1.0000</td>\n",
       "      <td>1</td>\n",
       "      <td>0</td>\n",
       "      <td>1</td>\n",
       "      <td>8</td>\n",
       "      <td>1.0</td>\n",
       "      <td>0</td>\n",
       "      <td>1</td>\n",
       "      <td>2</td>\n",
       "      <td>2</td>\n",
       "      <td>15</td>\n",
       "      <td>-1</td>\n",
       "      <td>A</td>\n",
       "      <td>4</td>\n",
       "    </tr>\n",
       "    <tr>\n",
       "      <th>2</th>\n",
       "      <td>x01600000001</td>\n",
       "      <td>2016</td>\n",
       "      <td>590</td>\n",
       "      <td>True</td>\n",
       "      <td>3</td>\n",
       "      <td>2</td>\n",
       "      <td>-1.0000</td>\n",
       "      <td>1</td>\n",
       "      <td>0</td>\n",
       "      <td>1</td>\n",
       "      <td>8</td>\n",
       "      <td>1.0</td>\n",
       "      <td>0</td>\n",
       "      <td>1</td>\n",
       "      <td>1</td>\n",
       "      <td>7</td>\n",
       "      <td>1</td>\n",
       "      <td>-1</td>\n",
       "      <td>A</td>\n",
       "      <td>4</td>\n",
       "    </tr>\n",
       "    <tr>\n",
       "      <th>3</th>\n",
       "      <td>x01600000001</td>\n",
       "      <td>2016</td>\n",
       "      <td>590</td>\n",
       "      <td>True</td>\n",
       "      <td>3</td>\n",
       "      <td>2</td>\n",
       "      <td>-1.0000</td>\n",
       "      <td>1</td>\n",
       "      <td>0</td>\n",
       "      <td>1</td>\n",
       "      <td>8</td>\n",
       "      <td>1.0</td>\n",
       "      <td>0</td>\n",
       "      <td>1</td>\n",
       "      <td>1</td>\n",
       "      <td>2</td>\n",
       "      <td>15</td>\n",
       "      <td>-1</td>\n",
       "      <td>A</td>\n",
       "      <td>4</td>\n",
       "    </tr>\n",
       "    <tr>\n",
       "      <th>4</th>\n",
       "      <td>x0160000000x</td>\n",
       "      <td>2016</td>\n",
       "      <td>590</td>\n",
       "      <td>True</td>\n",
       "      <td>3</td>\n",
       "      <td>1</td>\n",
       "      <td>-1.0000</td>\n",
       "      <td>6</td>\n",
       "      <td>0</td>\n",
       "      <td>1</td>\n",
       "      <td>1</td>\n",
       "      <td>1.0</td>\n",
       "      <td>6</td>\n",
       "      <td>1</td>\n",
       "      <td>1</td>\n",
       "      <td>7</td>\n",
       "      <td>1</td>\n",
       "      <td>-1</td>\n",
       "      <td>A</td>\n",
       "      <td>3</td>\n",
       "    </tr>\n",
       "    <tr>\n",
       "      <th>...</th>\n",
       "      <td>...</td>\n",
       "      <td>...</td>\n",
       "      <td>...</td>\n",
       "      <td>...</td>\n",
       "      <td>...</td>\n",
       "      <td>...</td>\n",
       "      <td>...</td>\n",
       "      <td>...</td>\n",
       "      <td>...</td>\n",
       "      <td>...</td>\n",
       "      <td>...</td>\n",
       "      <td>...</td>\n",
       "      <td>...</td>\n",
       "      <td>...</td>\n",
       "      <td>...</td>\n",
       "      <td>...</td>\n",
       "      <td>...</td>\n",
       "      <td>...</td>\n",
       "      <td>...</td>\n",
       "      <td>...</td>\n",
       "    </tr>\n",
       "    <tr>\n",
       "      <th>1727756</th>\n",
       "      <td>x019984107019</td>\n",
       "      <td>2019</td>\n",
       "      <td>98</td>\n",
       "      <td>False</td>\n",
       "      <td>3</td>\n",
       "      <td>6</td>\n",
       "      <td>96.5604</td>\n",
       "      <td>0</td>\n",
       "      <td>0</td>\n",
       "      <td>1</td>\n",
       "      <td>1</td>\n",
       "      <td>2.0</td>\n",
       "      <td>0</td>\n",
       "      <td>1</td>\n",
       "      <td>1</td>\n",
       "      <td>19</td>\n",
       "      <td>18</td>\n",
       "      <td>2</td>\n",
       "      <td>B</td>\n",
       "      <td>2</td>\n",
       "    </tr>\n",
       "    <tr>\n",
       "      <th>1727757</th>\n",
       "      <td>x019984107019</td>\n",
       "      <td>2019</td>\n",
       "      <td>98</td>\n",
       "      <td>False</td>\n",
       "      <td>3</td>\n",
       "      <td>6</td>\n",
       "      <td>96.5604</td>\n",
       "      <td>0</td>\n",
       "      <td>0</td>\n",
       "      <td>1</td>\n",
       "      <td>1</td>\n",
       "      <td>2.0</td>\n",
       "      <td>0</td>\n",
       "      <td>1</td>\n",
       "      <td>1</td>\n",
       "      <td>21</td>\n",
       "      <td>18</td>\n",
       "      <td>2</td>\n",
       "      <td>B</td>\n",
       "      <td>2</td>\n",
       "    </tr>\n",
       "    <tr>\n",
       "      <th>1727758</th>\n",
       "      <td>x019984107x19</td>\n",
       "      <td>2019</td>\n",
       "      <td>98</td>\n",
       "      <td>False</td>\n",
       "      <td>4</td>\n",
       "      <td>6</td>\n",
       "      <td>96.5604</td>\n",
       "      <td>3</td>\n",
       "      <td>0</td>\n",
       "      <td>1</td>\n",
       "      <td>1</td>\n",
       "      <td>1.0</td>\n",
       "      <td>0</td>\n",
       "      <td>1</td>\n",
       "      <td>1</td>\n",
       "      <td>9</td>\n",
       "      <td>18</td>\n",
       "      <td>2</td>\n",
       "      <td>B</td>\n",
       "      <td>1</td>\n",
       "    </tr>\n",
       "    <tr>\n",
       "      <th>1727759</th>\n",
       "      <td>x019984107419</td>\n",
       "      <td>2019</td>\n",
       "      <td>98</td>\n",
       "      <td>False</td>\n",
       "      <td>6</td>\n",
       "      <td>6</td>\n",
       "      <td>48.2802</td>\n",
       "      <td>3</td>\n",
       "      <td>0</td>\n",
       "      <td>1</td>\n",
       "      <td>1</td>\n",
       "      <td>1.0</td>\n",
       "      <td>0</td>\n",
       "      <td>3</td>\n",
       "      <td>1</td>\n",
       "      <td>9</td>\n",
       "      <td>7</td>\n",
       "      <td>2</td>\n",
       "      <td>B</td>\n",
       "      <td>1</td>\n",
       "    </tr>\n",
       "    <tr>\n",
       "      <th>1727760</th>\n",
       "      <td>x01998QC01004</td>\n",
       "      <td>2019</td>\n",
       "      <td>98</td>\n",
       "      <td>True</td>\n",
       "      <td>3</td>\n",
       "      <td>6</td>\n",
       "      <td>96.5604</td>\n",
       "      <td>0</td>\n",
       "      <td>0</td>\n",
       "      <td>1</td>\n",
       "      <td>1</td>\n",
       "      <td>1.0</td>\n",
       "      <td>0</td>\n",
       "      <td>1</td>\n",
       "      <td>1</td>\n",
       "      <td>5</td>\n",
       "      <td>16</td>\n",
       "      <td>1</td>\n",
       "      <td>B</td>\n",
       "      <td>1</td>\n",
       "    </tr>\n",
       "  </tbody>\n",
       "</table>\n",
       "<p>1727761 rows × 20 columns</p>\n",
       "</div>"
      ],
      "text/plain": [
       "           accident_id  year department  accident_type  road_category  \\\n",
       "0         x01600000001  2016        590          False              3   \n",
       "1         x01600000001  2016        590          False              3   \n",
       "2         x01600000001  2016        590           True              3   \n",
       "3         x01600000001  2016        590           True              3   \n",
       "4         x0160000000x  2016        590           True              3   \n",
       "...                ...   ...        ...            ...            ...   \n",
       "1727756  x019984107019  2019         98          False              3   \n",
       "1727757  x019984107019  2019         98          False              3   \n",
       "1727758  x019984107x19  2019         98          False              4   \n",
       "1727759  x019984107419  2019         98          False              6   \n",
       "1727760  x01998QC01004  2019         98           True              3   \n",
       "\n",
       "        traffic_type  speed_limitation intersection pedestrian_localisation  \\\n",
       "0                  2           -1.0000            1                       0   \n",
       "1                  2           -1.0000            1                       0   \n",
       "2                  2           -1.0000            1                       0   \n",
       "3                  2           -1.0000            1                       0   \n",
       "4                  1           -1.0000            6                       0   \n",
       "...              ...               ...          ...                     ...   \n",
       "1727756            6           96.5604            0                       0   \n",
       "1727757            6           96.5604            0                       0   \n",
       "1727758            6           96.5604            3                       0   \n",
       "1727759            6           48.2802            3                       0   \n",
       "1727760            6           96.5604            0                       0   \n",
       "\n",
       "        light_condition weather_conditions  road_condition obstacle_hit_type  \\\n",
       "0                     1                  8             1.0                 0   \n",
       "1                     1                  8             1.0                 0   \n",
       "2                     1                  8             1.0                 0   \n",
       "3                     1                  8             1.0                 0   \n",
       "4                     1                  1             1.0                 6   \n",
       "...                 ...                ...             ...               ...   \n",
       "1727756               1                  1             2.0                 0   \n",
       "1727757               1                  1             2.0                 0   \n",
       "1727758               1                  1             1.0                 0   \n",
       "1727759               1                  1             1.0                 0   \n",
       "1727760               1                  1             1.0                 0   \n",
       "\n",
       "        person_type person_sex vehicule_type  \\\n",
       "0                 1          2             7   \n",
       "1                 1          2             2   \n",
       "2                 1          1             7   \n",
       "3                 1          1             2   \n",
       "4                 1          1             7   \n",
       "...             ...        ...           ...   \n",
       "1727756           1          1            19   \n",
       "1727757           1          1            21   \n",
       "1727758           1          1             9   \n",
       "1727759           3          1             9   \n",
       "1727760           1          1             5   \n",
       "\n",
       "        principal_maneuver_before_accident vehicule_motor_type country  nb_ppl  \n",
       "0                                        1                  -1       A       4  \n",
       "1                                       15                  -1       A       4  \n",
       "2                                        1                  -1       A       4  \n",
       "3                                       15                  -1       A       4  \n",
       "4                                        1                  -1       A       3  \n",
       "...                                    ...                 ...     ...     ...  \n",
       "1727756                                 18                   2       B       2  \n",
       "1727757                                 18                   2       B       2  \n",
       "1727758                                 18                   2       B       1  \n",
       "1727759                                  7                   2       B       1  \n",
       "1727760                                 16                   1       B       1  \n",
       "\n",
       "[1727761 rows x 20 columns]"
      ]
     },
     "execution_count": 350,
     "metadata": {},
     "output_type": "execute_result"
    }
   ],
   "source": [
    "train"
   ]
  },
  {
   "cell_type": "code",
   "execution_count": 351,
   "metadata": {},
   "outputs": [],
   "source": [
    "train = train.drop([\"accident_id\"],axis=1)"
   ]
  },
  {
   "cell_type": "markdown",
   "metadata": {},
   "source": [
    "# Model"
   ]
  },
  {
   "cell_type": "code",
   "execution_count": 352,
   "metadata": {},
   "outputs": [],
   "source": [
    "X = train.drop([\"accident_type\"], axis=1)\n",
    "y = train[\"accident_type\"]"
   ]
  },
  {
   "cell_type": "code",
   "execution_count": 353,
   "metadata": {},
   "outputs": [
    {
     "name": "stdout",
     "output_type": "stream",
     "text": [
      "<class 'pandas.core.frame.DataFrame'>\n",
      "Int64Index: 1727761 entries, 0 to 1727760\n",
      "Data columns (total 18 columns):\n",
      " #   Column                              Dtype  \n",
      "---  ------                              -----  \n",
      " 0   year                                int32  \n",
      " 1   department                          object \n",
      " 2   road_category                       int32  \n",
      " 3   traffic_type                        object \n",
      " 4   speed_limitation                    float64\n",
      " 5   intersection                        object \n",
      " 6   pedestrian_localisation             object \n",
      " 7   light_condition                     object \n",
      " 8   weather_conditions                  object \n",
      " 9   road_condition                      float64\n",
      " 10  obstacle_hit_type                   object \n",
      " 11  person_type                         object \n",
      " 12  person_sex                          object \n",
      " 13  vehicule_type                       object \n",
      " 14  principal_maneuver_before_accident  object \n",
      " 15  vehicule_motor_type                 object \n",
      " 16  country                             object \n",
      " 17  nb_ppl                              int64  \n",
      "dtypes: float64(2), int32(2), int64(1), object(13)\n",
      "memory usage: 237.3+ MB\n"
     ]
    }
   ],
   "source": [
    "X.info()"
   ]
  },
  {
   "cell_type": "code",
   "execution_count": 354,
   "metadata": {},
   "outputs": [],
   "source": [
    "categorical_features = [\"department\",\n",
    "                    \"road_category\", \n",
    "                    \"intersection\", \n",
    "                    \"pedestrian_localisation\", \n",
    "                    \"obstacle_hit_type\", \n",
    "                    \"person_type\", \n",
    "                    \"person_sex\", \n",
    "                    \"vehicule_type\", \n",
    "                    \"principal_maneuver_before_accident\",\n",
    "                    \"vehicule_motor_type\",\n",
    "                    \"country\"]\n",
    "numeric_features = [\"year\", \"traffic_type\", \"speed_limitation\", \"light_condition\", \"weather_conditions\", \"road_condition\",\"nb_ppl\"]"
   ]
  },
  {
   "cell_type": "code",
   "execution_count": 355,
   "metadata": {},
   "outputs": [],
   "source": [
    "X_train, X_test, y_train, y_test = train_test_split(X, y, test_size=.6, random_state = 1)"
   ]
  },
  {
   "cell_type": "code",
   "execution_count": 356,
   "metadata": {},
   "outputs": [
    {
     "name": "stdout",
     "output_type": "stream",
     "text": [
      "Test accuracy : 0.692059442089565\n"
     ]
    }
   ],
   "source": [
    "from lightgbm import LGBMClassifier\n",
    "\n",
    "numeric_transformer = Pipeline(steps=[('scaler', StandardScaler())])\n",
    "categorical_transformer = Pipeline(steps=[('onehot', OneHotEncoder(handle_unknown='ignore'))])\n",
    "\n",
    "preprocessor = ColumnTransformer(\n",
    "    transformers=[\n",
    "        ('num', numeric_transformer, numeric_features),\n",
    "        ('cat', categorical_transformer, categorical_features)\n",
    "        ])\n",
    "\n",
    "pipe = Pipeline(steps=[('preprocessor', preprocessor),\n",
    "                      ('classifier', LGBMClassifier(learning_rate=0.1, num_leaves=400,reg_alpha=2, reg_lambda=2.5, class_weight=\"balanced\"))])\n",
    "\n",
    "pipe.fit(X_train, y_train)\n",
    "\n",
    "y_pred = pipe.predict(X_test)\n",
    "\n",
    "print(\"Test accuracy :\",balanced_accuracy_score(y_test, y_pred))"
   ]
  },
  {
   "cell_type": "code",
   "execution_count": 360,
   "metadata": {},
   "outputs": [
    {
     "data": {
      "text/html": [
       "<div>\n",
       "<style scoped>\n",
       "    .dataframe tbody tr th:only-of-type {\n",
       "        vertical-align: middle;\n",
       "    }\n",
       "\n",
       "    .dataframe tbody tr th {\n",
       "        vertical-align: top;\n",
       "    }\n",
       "\n",
       "    .dataframe thead th {\n",
       "        text-align: right;\n",
       "    }\n",
       "</style>\n",
       "<table border=\"1\" class=\"dataframe\">\n",
       "  <thead>\n",
       "    <tr style=\"text-align: right;\">\n",
       "      <th></th>\n",
       "      <th>trustii_id</th>\n",
       "      <th>year</th>\n",
       "      <th>department</th>\n",
       "      <th>road_category</th>\n",
       "      <th>traffic_type</th>\n",
       "      <th>speed_limitation</th>\n",
       "      <th>intersection</th>\n",
       "      <th>pedestrian_localisation</th>\n",
       "      <th>light_condition</th>\n",
       "      <th>weather_conditions</th>\n",
       "      <th>road_condition</th>\n",
       "      <th>obstacle_hit_type</th>\n",
       "      <th>person_type</th>\n",
       "      <th>person_sex</th>\n",
       "      <th>vehicule_type</th>\n",
       "      <th>principal_maneuver_before_accident</th>\n",
       "      <th>vehicule_motor_type</th>\n",
       "      <th>country</th>\n",
       "      <th>nb_ppl</th>\n",
       "    </tr>\n",
       "  </thead>\n",
       "  <tbody>\n",
       "    <tr>\n",
       "      <th>0</th>\n",
       "      <td>1019363</td>\n",
       "      <td>2020</td>\n",
       "      <td>91</td>\n",
       "      <td>4</td>\n",
       "      <td>2</td>\n",
       "      <td>50.0000</td>\n",
       "      <td>3</td>\n",
       "      <td>-1</td>\n",
       "      <td>1</td>\n",
       "      <td>1</td>\n",
       "      <td>1.0</td>\n",
       "      <td>0</td>\n",
       "      <td>1</td>\n",
       "      <td>1</td>\n",
       "      <td>7</td>\n",
       "      <td>15</td>\n",
       "      <td>1</td>\n",
       "      <td>A</td>\n",
       "      <td>4</td>\n",
       "    </tr>\n",
       "    <tr>\n",
       "      <th>1</th>\n",
       "      <td>1019364</td>\n",
       "      <td>2020</td>\n",
       "      <td>91</td>\n",
       "      <td>4</td>\n",
       "      <td>2</td>\n",
       "      <td>50.0000</td>\n",
       "      <td>3</td>\n",
       "      <td>-1</td>\n",
       "      <td>1</td>\n",
       "      <td>1</td>\n",
       "      <td>1.0</td>\n",
       "      <td>0</td>\n",
       "      <td>1</td>\n",
       "      <td>1</td>\n",
       "      <td>33</td>\n",
       "      <td>2</td>\n",
       "      <td>1</td>\n",
       "      <td>A</td>\n",
       "      <td>4</td>\n",
       "    </tr>\n",
       "    <tr>\n",
       "      <th>2</th>\n",
       "      <td>1019365</td>\n",
       "      <td>2020</td>\n",
       "      <td>91</td>\n",
       "      <td>4</td>\n",
       "      <td>2</td>\n",
       "      <td>50.0000</td>\n",
       "      <td>3</td>\n",
       "      <td>-1</td>\n",
       "      <td>1</td>\n",
       "      <td>1</td>\n",
       "      <td>1.0</td>\n",
       "      <td>0</td>\n",
       "      <td>1</td>\n",
       "      <td>1</td>\n",
       "      <td>7</td>\n",
       "      <td>15</td>\n",
       "      <td>1</td>\n",
       "      <td>A</td>\n",
       "      <td>4</td>\n",
       "    </tr>\n",
       "    <tr>\n",
       "      <th>3</th>\n",
       "      <td>1019366</td>\n",
       "      <td>2020</td>\n",
       "      <td>91</td>\n",
       "      <td>4</td>\n",
       "      <td>2</td>\n",
       "      <td>50.0000</td>\n",
       "      <td>3</td>\n",
       "      <td>-1</td>\n",
       "      <td>1</td>\n",
       "      <td>1</td>\n",
       "      <td>1.0</td>\n",
       "      <td>0</td>\n",
       "      <td>1</td>\n",
       "      <td>1</td>\n",
       "      <td>33</td>\n",
       "      <td>2</td>\n",
       "      <td>1</td>\n",
       "      <td>A</td>\n",
       "      <td>4</td>\n",
       "    </tr>\n",
       "    <tr>\n",
       "      <th>4</th>\n",
       "      <td>1019367</td>\n",
       "      <td>2020</td>\n",
       "      <td>91</td>\n",
       "      <td>4</td>\n",
       "      <td>2</td>\n",
       "      <td>50.0000</td>\n",
       "      <td>9</td>\n",
       "      <td>-1</td>\n",
       "      <td>2</td>\n",
       "      <td>7</td>\n",
       "      <td>1.0</td>\n",
       "      <td>0</td>\n",
       "      <td>1</td>\n",
       "      <td>1</td>\n",
       "      <td>7</td>\n",
       "      <td>26</td>\n",
       "      <td>1</td>\n",
       "      <td>A</td>\n",
       "      <td>2</td>\n",
       "    </tr>\n",
       "    <tr>\n",
       "      <th>...</th>\n",
       "      <td>...</td>\n",
       "      <td>...</td>\n",
       "      <td>...</td>\n",
       "      <td>...</td>\n",
       "      <td>...</td>\n",
       "      <td>...</td>\n",
       "      <td>...</td>\n",
       "      <td>...</td>\n",
       "      <td>...</td>\n",
       "      <td>...</td>\n",
       "      <td>...</td>\n",
       "      <td>...</td>\n",
       "      <td>...</td>\n",
       "      <td>...</td>\n",
       "      <td>...</td>\n",
       "      <td>...</td>\n",
       "      <td>...</td>\n",
       "      <td>...</td>\n",
       "      <td>...</td>\n",
       "    </tr>\n",
       "    <tr>\n",
       "      <th>410479</th>\n",
       "      <td>2631697</td>\n",
       "      <td>2020</td>\n",
       "      <td>99</td>\n",
       "      <td>4</td>\n",
       "      <td>6</td>\n",
       "      <td>48.2802</td>\n",
       "      <td>1</td>\n",
       "      <td>0</td>\n",
       "      <td>1</td>\n",
       "      <td>1</td>\n",
       "      <td>1.0</td>\n",
       "      <td>0</td>\n",
       "      <td>1</td>\n",
       "      <td>1</td>\n",
       "      <td>-1</td>\n",
       "      <td>-1</td>\n",
       "      <td>-1</td>\n",
       "      <td>B</td>\n",
       "      <td>1</td>\n",
       "    </tr>\n",
       "    <tr>\n",
       "      <th>410480</th>\n",
       "      <td>2631698</td>\n",
       "      <td>2020</td>\n",
       "      <td>99</td>\n",
       "      <td>6</td>\n",
       "      <td>9</td>\n",
       "      <td>48.2802</td>\n",
       "      <td>3</td>\n",
       "      <td>0</td>\n",
       "      <td>1</td>\n",
       "      <td>1</td>\n",
       "      <td>1.0</td>\n",
       "      <td>0</td>\n",
       "      <td>3</td>\n",
       "      <td>2</td>\n",
       "      <td>-1</td>\n",
       "      <td>-1</td>\n",
       "      <td>-1</td>\n",
       "      <td>B</td>\n",
       "      <td>1</td>\n",
       "    </tr>\n",
       "    <tr>\n",
       "      <th>410481</th>\n",
       "      <td>2631699</td>\n",
       "      <td>2020</td>\n",
       "      <td>99</td>\n",
       "      <td>4</td>\n",
       "      <td>6</td>\n",
       "      <td>96.5604</td>\n",
       "      <td>8</td>\n",
       "      <td>0</td>\n",
       "      <td>1</td>\n",
       "      <td>1</td>\n",
       "      <td>1.0</td>\n",
       "      <td>0</td>\n",
       "      <td>1</td>\n",
       "      <td>1</td>\n",
       "      <td>-1</td>\n",
       "      <td>-1</td>\n",
       "      <td>-1</td>\n",
       "      <td>B</td>\n",
       "      <td>1</td>\n",
       "    </tr>\n",
       "    <tr>\n",
       "      <th>410482</th>\n",
       "      <td>2631700</td>\n",
       "      <td>2020</td>\n",
       "      <td>99</td>\n",
       "      <td>6</td>\n",
       "      <td>6</td>\n",
       "      <td>48.2802</td>\n",
       "      <td>3</td>\n",
       "      <td>0</td>\n",
       "      <td>1</td>\n",
       "      <td>1</td>\n",
       "      <td>1.0</td>\n",
       "      <td>0</td>\n",
       "      <td>1</td>\n",
       "      <td>1</td>\n",
       "      <td>-1</td>\n",
       "      <td>-1</td>\n",
       "      <td>-1</td>\n",
       "      <td>B</td>\n",
       "      <td>1</td>\n",
       "    </tr>\n",
       "    <tr>\n",
       "      <th>410483</th>\n",
       "      <td>2631701</td>\n",
       "      <td>2020</td>\n",
       "      <td>99</td>\n",
       "      <td>6</td>\n",
       "      <td>6</td>\n",
       "      <td>48.2802</td>\n",
       "      <td>0</td>\n",
       "      <td>0</td>\n",
       "      <td>1</td>\n",
       "      <td>1</td>\n",
       "      <td>1.0</td>\n",
       "      <td>2</td>\n",
       "      <td>3</td>\n",
       "      <td>1</td>\n",
       "      <td>-1</td>\n",
       "      <td>-1</td>\n",
       "      <td>-1</td>\n",
       "      <td>B</td>\n",
       "      <td>1</td>\n",
       "    </tr>\n",
       "  </tbody>\n",
       "</table>\n",
       "<p>410484 rows × 19 columns</p>\n",
       "</div>"
      ],
      "text/plain": [
       "        trustii_id  year department  road_category traffic_type  \\\n",
       "0          1019363  2020         91              4            2   \n",
       "1          1019364  2020         91              4            2   \n",
       "2          1019365  2020         91              4            2   \n",
       "3          1019366  2020         91              4            2   \n",
       "4          1019367  2020         91              4            2   \n",
       "...            ...   ...        ...            ...          ...   \n",
       "410479     2631697  2020         99              4            6   \n",
       "410480     2631698  2020         99              6            9   \n",
       "410481     2631699  2020         99              4            6   \n",
       "410482     2631700  2020         99              6            6   \n",
       "410483     2631701  2020         99              6            6   \n",
       "\n",
       "        speed_limitation intersection pedestrian_localisation light_condition  \\\n",
       "0                50.0000            3                      -1               1   \n",
       "1                50.0000            3                      -1               1   \n",
       "2                50.0000            3                      -1               1   \n",
       "3                50.0000            3                      -1               1   \n",
       "4                50.0000            9                      -1               2   \n",
       "...                  ...          ...                     ...             ...   \n",
       "410479           48.2802            1                       0               1   \n",
       "410480           48.2802            3                       0               1   \n",
       "410481           96.5604            8                       0               1   \n",
       "410482           48.2802            3                       0               1   \n",
       "410483           48.2802            0                       0               1   \n",
       "\n",
       "       weather_conditions  road_condition obstacle_hit_type person_type  \\\n",
       "0                       1             1.0                 0           1   \n",
       "1                       1             1.0                 0           1   \n",
       "2                       1             1.0                 0           1   \n",
       "3                       1             1.0                 0           1   \n",
       "4                       7             1.0                 0           1   \n",
       "...                   ...             ...               ...         ...   \n",
       "410479                  1             1.0                 0           1   \n",
       "410480                  1             1.0                 0           3   \n",
       "410481                  1             1.0                 0           1   \n",
       "410482                  1             1.0                 0           1   \n",
       "410483                  1             1.0                 2           3   \n",
       "\n",
       "       person_sex vehicule_type principal_maneuver_before_accident  \\\n",
       "0               1             7                                 15   \n",
       "1               1            33                                  2   \n",
       "2               1             7                                 15   \n",
       "3               1            33                                  2   \n",
       "4               1             7                                 26   \n",
       "...           ...           ...                                ...   \n",
       "410479          1            -1                                 -1   \n",
       "410480          2            -1                                 -1   \n",
       "410481          1            -1                                 -1   \n",
       "410482          1            -1                                 -1   \n",
       "410483          1            -1                                 -1   \n",
       "\n",
       "       vehicule_motor_type country  nb_ppl  \n",
       "0                        1       A       4  \n",
       "1                        1       A       4  \n",
       "2                        1       A       4  \n",
       "3                        1       A       4  \n",
       "4                        1       A       2  \n",
       "...                    ...     ...     ...  \n",
       "410479                  -1       B       1  \n",
       "410480                  -1       B       1  \n",
       "410481                  -1       B       1  \n",
       "410482                  -1       B       1  \n",
       "410483                  -1       B       1  \n",
       "\n",
       "[410484 rows x 19 columns]"
      ]
     },
     "execution_count": 360,
     "metadata": {},
     "output_type": "execute_result"
    }
   ],
   "source": [
    "df_test = pd.read_csv(\"src/test.csv\")\n",
    "df_test = df_test.fillna(-1)\n",
    "df_test[\"year\"] = df_test[\"year\"].astype(int)\n",
    "df_test[[\"latitude\",\"longitude\"]] = df_test[[\"latitude\",\"longitude\"]].astype(str).apply(lambda x: x.str.replace(',','.'))\n",
    "df_test[\"department\"] = df_test[\"department\"].astype(str)\n",
    "df_test['department'] = np.where(df_test['department'] == \"2A\", \"2\", df_test['department'])\n",
    "df_test['department'] = np.where(df_test['department'] == \"2B\", \"2\", df_test['department'])\n",
    "df_test[\"road_category\"] = df_test[\"road_category\"].astype(int)\n",
    "df_test[\"traffic_type\"] = df_test[\"traffic_type\"].astype(int).astype(str)\n",
    "df_test.loc[df_test[\"country\"] == \"B\", \"speed_limitation\"] = 1.60934 * df_test.loc[df_test[\"country\"] == \"B\", \"speed_limitation\"]\n",
    "df_test['speed_limitation'] = np.where(df_test['speed_limitation'] < 10, -1, df_test['speed_limitation'])\n",
    "df_test['speed_limitation'] = np.where(df_test['speed_limitation'] > 130, -1, df_test['speed_limitation'])\n",
    "df_test[\"intersection\"] = df_test[\"intersection\"].astype(int).astype(str)\n",
    "df_test[\"pedestrian_localisation\"] = df_test[\"pedestrian_localisation\"].astype(int).astype(str)\n",
    "df_test[\"light_condition\"] = df_test[\"light_condition\"].astype(int).astype(str)\n",
    "df_test[\"weather_conditions\"] = df_test[\"weather_conditions\"].astype(int).astype(str)\n",
    "df_test[\"obstacle_hit_type\"] = df_test[\"obstacle_hit_type\"].astype(int).astype(str)\n",
    "df_test[\"person_type\"] = df_test[\"person_type\"].astype(int).astype(str)\n",
    "df_test['person_type'] = np.where(df_test['person_type'] == \"4\", \"-1\", df_test['person_type'])\n",
    "df_test[\"person_sex\"] = df_test[\"person_sex\"].astype(int).astype(str)\n",
    "df_test[\"vehicule_type\"] = df_test[\"vehicule_type\"].astype(int).astype(str)\n",
    "df_test['vehicule_type'] = np.where(df_test['vehicule_type'] == \"0\", \"-1\", df_test['vehicule_type'])\n",
    "df_test[\"principal_maneuver_before_accident\"] = df_test[\"principal_maneuver_before_accident\"].astype(int).astype(str)\n",
    "df_test['principal_maneuver_before_accident'] = np.where(df_test['principal_maneuver_before_accident'] == \"0\", \"-1\", df_test['principal_maneuver_before_accident'])\n",
    "df_test[\"vehicule_motor_type\"] = df_test[\"vehicule_motor_type\"].astype(int).astype(str)\n",
    "df_test['vehicule_motor_type'] = np.where(df_test['vehicule_motor_type'] == \"0\", \"-1\", df_test['vehicule_motor_type'])\n",
    "\n",
    "df_nb_ppl = df_test[[\"accident_id\",\"year\"]].groupby(\"accident_id\").agg({\"year\":\"count\"})\n",
    "df_nb_ppl = df_nb_ppl.rename(columns ={\"year\": \"nb_ppl\"}).reset_index()\n",
    "test = pd.merge(df_test, df_nb_ppl, how='left', on=\"accident_id\")\n",
    "test = test.drop([\"accident_id\", \"day\", \"month\", \"address_nbr\", \"longitude\", \"latitude\"], axis=1) \n",
    "\n",
    "test"
   ]
  },
  {
   "cell_type": "code",
   "execution_count": 361,
   "metadata": {},
   "outputs": [
    {
     "name": "stdout",
     "output_type": "stream",
     "text": [
      "<class 'pandas.core.frame.DataFrame'>\n",
      "Int64Index: 410484 entries, 0 to 410483\n",
      "Data columns (total 19 columns):\n",
      " #   Column                              Non-Null Count   Dtype  \n",
      "---  ------                              --------------   -----  \n",
      " 0   trustii_id                          410484 non-null  int64  \n",
      " 1   year                                410484 non-null  int32  \n",
      " 2   department                          410484 non-null  object \n",
      " 3   road_category                       410484 non-null  int32  \n",
      " 4   traffic_type                        410484 non-null  object \n",
      " 5   speed_limitation                    410484 non-null  float64\n",
      " 6   intersection                        410484 non-null  object \n",
      " 7   pedestrian_localisation             410484 non-null  object \n",
      " 8   light_condition                     410484 non-null  object \n",
      " 9   weather_conditions                  410484 non-null  object \n",
      " 10  road_condition                      410484 non-null  float64\n",
      " 11  obstacle_hit_type                   410484 non-null  object \n",
      " 12  person_type                         410484 non-null  object \n",
      " 13  person_sex                          410484 non-null  object \n",
      " 14  vehicule_type                       410484 non-null  object \n",
      " 15  principal_maneuver_before_accident  410484 non-null  object \n",
      " 16  vehicule_motor_type                 410484 non-null  object \n",
      " 17  country                             410484 non-null  object \n",
      " 18  nb_ppl                              410484 non-null  int64  \n",
      "dtypes: float64(2), int32(2), int64(2), object(13)\n",
      "memory usage: 59.5+ MB\n"
     ]
    }
   ],
   "source": [
    "test.info()"
   ]
  },
  {
   "cell_type": "code",
   "execution_count": 364,
   "metadata": {},
   "outputs": [],
   "source": [
    "y_test_pred = pipe.predict(test.drop(\"trustii_id\", axis=1))"
   ]
  },
  {
   "cell_type": "code",
   "execution_count": 365,
   "metadata": {},
   "outputs": [
    {
     "data": {
      "text/plain": [
       "array([False,  True, False, ...,  True,  True,  True])"
      ]
     },
     "execution_count": 365,
     "metadata": {},
     "output_type": "execute_result"
    }
   ],
   "source": [
    "y_test_pred"
   ]
  },
  {
   "cell_type": "code",
   "execution_count": 366,
   "metadata": {},
   "outputs": [],
   "source": [
    "df_test[\"accident_type\"] = y_test_pred\n",
    "df_test[\"accident_type\"] = df_test[\"accident_type\"] + 1\n",
    "sub = df_test.set_index(\"trustii_id\")"
   ]
  },
  {
   "cell_type": "code",
   "execution_count": 367,
   "metadata": {},
   "outputs": [],
   "source": [
    "# sub.to_csv(\"final_pred.csv\")"
   ]
  },
  {
   "cell_type": "code",
   "execution_count": 368,
   "metadata": {},
   "outputs": [
    {
     "data": {
      "text/plain": [
       "Pipeline(steps=[('preprocessor',\n",
       "                 ColumnTransformer(transformers=[('num',\n",
       "                                                  Pipeline(steps=[('scaler',\n",
       "                                                                   StandardScaler())]),\n",
       "                                                  ['year', 'traffic_type',\n",
       "                                                   'speed_limitation',\n",
       "                                                   'light_condition',\n",
       "                                                   'weather_conditions',\n",
       "                                                   'road_condition',\n",
       "                                                   'nb_ppl']),\n",
       "                                                 ('cat',\n",
       "                                                  Pipeline(steps=[('onehot',\n",
       "                                                                   OneHotEncoder(handle_unknown='ignore'))]),\n",
       "                                                  ['department',\n",
       "                                                   'road_category',\n",
       "                                                   'intersection',\n",
       "                                                   'pedestrian_localisation',\n",
       "                                                   'obstacle_hit_type',\n",
       "                                                   'person_type', 'person_sex',\n",
       "                                                   'vehicule_type',\n",
       "                                                   'principal_maneuver_before_accident',\n",
       "                                                   'vehicule_motor_type',\n",
       "                                                   'country'])])),\n",
       "                ('classifier',\n",
       "                 LGBMClassifier(class_weight='balanced', num_leaves=400,\n",
       "                                reg_alpha=2, reg_lambda=2.5))])"
      ]
     },
     "execution_count": 368,
     "metadata": {},
     "output_type": "execute_result"
    }
   ],
   "source": [
    "pipe"
   ]
  },
  {
   "cell_type": "code",
   "execution_count": 369,
   "metadata": {},
   "outputs": [],
   "source": [
    "import pickle\n",
    "filename = 'finalized_model_v2.sav'\n",
    "pickle.dump(pipe, open(filename, 'wb'))"
   ]
  }
 ],
 "metadata": {
  "interpreter": {
   "hash": "0c93fef736b962ba59001a543927022eb689f7bfa2ad21de8506ade8fbdfd562"
  },
  "kernelspec": {
   "display_name": "Python 3.8.12 ('vlille')",
   "language": "python",
   "name": "python3"
  },
  "language_info": {
   "codemirror_mode": {
    "name": "ipython",
    "version": 3
   },
   "file_extension": ".py",
   "mimetype": "text/x-python",
   "name": "python",
   "nbconvert_exporter": "python",
   "pygments_lexer": "ipython3",
   "version": "3.8.12"
  },
  "orig_nbformat": 4
 },
 "nbformat": 4,
 "nbformat_minor": 2
}
